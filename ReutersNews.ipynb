{
  "nbformat": 4,
  "nbformat_minor": 0,
  "metadata": {
    "colab": {
      "name": "ReutersNews.ipynb",
      "provenance": [],
      "authorship_tag": "ABX9TyM1nlo7IXeNr6y5J1+vnV/V",
      "include_colab_link": true
    },
    "kernelspec": {
      "name": "python3",
      "display_name": "Python 3"
    },
    "accelerator": "GPU"
  },
  "cells": [
    {
      "cell_type": "markdown",
      "metadata": {
        "id": "view-in-github",
        "colab_type": "text"
      },
      "source": [
        "<a href=\"https://colab.research.google.com/github/RogerHeederer/NLP_entry/blob/master/ReutersNews.ipynb\" target=\"_parent\"><img src=\"https://colab.research.google.com/assets/colab-badge.svg\" alt=\"Open In Colab\"/></a>"
      ]
    },
    {
      "cell_type": "markdown",
      "metadata": {
        "id": "aEeUVMXYsEmQ",
        "colab_type": "text"
      },
      "source": [
        "Reference Source : wikidocs.net 유영준님 자료\n",
        "\n",
        "스스로 학습하면서 필요한 부분에는 추가적 설명, 소스 코드 삽입 및 수정 등이 있습니다. 영리적 목적이 아닌, 자기 계발 목적으로 정리한 자료입니다."
      ]
    },
    {
      "cell_type": "code",
      "metadata": {
        "id": "Jfq3Id04gGnY",
        "colab_type": "code",
        "colab": {
          "base_uri": "https://localhost:8080/",
          "height": 71
        },
        "outputId": "67468c50-4494-4b52-aa0c-12d11a8e5d71"
      },
      "source": [
        "from tensorflow.keras.datasets import reuters\n",
        "%matplotlib inline\n",
        "import matplotlib.pyplot as plt\n",
        "import numpy as np\n",
        "import seaborn as sns"
      ],
      "execution_count": null,
      "outputs": [
        {
          "output_type": "stream",
          "text": [
            "/usr/local/lib/python3.6/dist-packages/statsmodels/tools/_testing.py:19: FutureWarning: pandas.util.testing is deprecated. Use the functions in the public API at pandas.testing instead.\n",
            "  import pandas.util.testing as tm\n"
          ],
          "name": "stderr"
        }
      ]
    },
    {
      "cell_type": "code",
      "metadata": {
        "id": "-0t-vrsvgUtk",
        "colab_type": "code",
        "colab": {
          "base_uri": "https://localhost:8080/",
          "height": 51
        },
        "outputId": "a71cb88b-1848-46af-bb72-fb5de9540dd7"
      },
      "source": [
        "#데이터 셋 분배. num_words는 빈도 상위 몇번까지 표출할지에 대해 사용\n",
        "(X_train, y_train), (X_test, y_test) = reuters.load_data(num_words=None, test_split=0.2)"
      ],
      "execution_count": null,
      "outputs": [
        {
          "output_type": "stream",
          "text": [
            "Downloading data from https://storage.googleapis.com/tensorflow/tf-keras-datasets/reuters.npz\n",
            "2113536/2110848 [==============================] - 0s 0us/step\n"
          ],
          "name": "stdout"
        }
      ]
    },
    {
      "cell_type": "code",
      "metadata": {
        "id": "qgtmXPiUgy2X",
        "colab_type": "code",
        "colab": {
          "base_uri": "https://localhost:8080/",
          "height": 68
        },
        "outputId": "a85965da-a576-4a11-e538-0e1d7305b79c"
      },
      "source": [
        "print('훈련용 뉴스 기사 : {}'.format(len(X_train)))\n",
        "print('테스트용 뉴스 기사 : {}'.format(len(X_test)))\n",
        "num_classes = max(y_train) + 1\n",
        "print('카테고리: {}'.format(num_classes))"
      ],
      "execution_count": null,
      "outputs": [
        {
          "output_type": "stream",
          "text": [
            "훈련용 뉴스 기사 : 8982\n",
            "테스트용 뉴스 기사 : 2246\n",
            "카테고리: 46\n"
          ],
          "name": "stdout"
        }
      ]
    },
    {
      "cell_type": "code",
      "metadata": {
        "id": "4qxG8ppphHaY",
        "colab_type": "code",
        "colab": {
          "base_uri": "https://localhost:8080/",
          "height": 71
        },
        "outputId": "78f310cd-0eb6-40f9-c15e-3cc10d6c5d23"
      },
      "source": [
        "# 정수 인코딩이 끝난 상태의 데이터를 받아온거임\n",
        "print(X_train[0])\n",
        "print(y_train[0])"
      ],
      "execution_count": null,
      "outputs": [
        {
          "output_type": "stream",
          "text": [
            "[1, 27595, 28842, 8, 43, 10, 447, 5, 25, 207, 270, 5, 3095, 111, 16, 369, 186, 90, 67, 7, 89, 5, 19, 102, 6, 19, 124, 15, 90, 67, 84, 22, 482, 26, 7, 48, 4, 49, 8, 864, 39, 209, 154, 6, 151, 6, 83, 11, 15, 22, 155, 11, 15, 7, 48, 9, 4579, 1005, 504, 6, 258, 6, 272, 11, 15, 22, 134, 44, 11, 15, 16, 8, 197, 1245, 90, 67, 52, 29, 209, 30, 32, 132, 6, 109, 15, 17, 12]\n",
            "3\n"
          ],
          "name": "stdout"
        }
      ]
    },
    {
      "cell_type": "code",
      "metadata": {
        "id": "uzFdEyVehTks",
        "colab_type": "code",
        "colab": {
          "base_uri": "https://localhost:8080/",
          "height": 313
        },
        "outputId": "efe39122-75e7-4e6a-d476-2f9c41e8cee1"
      },
      "source": [
        "print('뉴스 기사의 최대 길이:{}'.format(max(len(l) for l in X_train)))\n",
        "print('뉴스 기사의 평균 길이:{}'.format( sum(map(len, X_train))/len(X_train) ))\n",
        "\n",
        "plt.hist([len(s) for s in X_train], bins=50)\n",
        "plt.xlabel('length of samples')\n",
        "plt.ylabel('number of samples')\n",
        "plt.show()"
      ],
      "execution_count": null,
      "outputs": [
        {
          "output_type": "stream",
          "text": [
            "뉴스 기사의 최대 길이:2376\n",
            "뉴스 기사의 평균 길이:145.5398574927633\n"
          ],
          "name": "stdout"
        },
        {
          "output_type": "display_data",
          "data": {
            "image/png": "[encoded data removed]",
            "text/plain": [
              "<Figure size 432x288 with 1 Axes>"
            ]
          },
          "metadata": {
            "tags": [],
            "needs_background": "light"
          }
        }
      ]
    },
    {
      "cell_type": "code",
      "metadata": {
        "id": "2fj4ZLgwimo7",
        "colab_type": "code",
        "colab": {
          "base_uri": "https://localhost:8080/",
          "height": 337
        },
        "outputId": "86a0de94-b20d-4166-c935-4004c07752cd"
      },
      "source": [
        "fig, axe = plt.subplots(ncols=1)\n",
        "fig.set_size_inches(12, 5)\n",
        "sns.countplot(y_train)"
      ],
      "execution_count": null,
      "outputs": [
        {
          "output_type": "execute_result",
          "data": {
            "text/plain": [
              "<matplotlib.axes._subplots.AxesSubplot at 0x7fad58acae80>"
            ]
          },
          "metadata": {
            "tags": []
          },
          "execution_count": 6
        },
        {
          "output_type": "display_data",
          "data": {
            "image/png": "[encoded data removed]",
            "text/plain": [
              "<Figure size 864x360 with 1 Axes>"
            ]
          },
          "metadata": {
            "tags": [],
            "needs_background": "light"
          }
        }
      ]
    },
    {
      "cell_type": "code",
      "metadata": {
        "id": "ZDFh0Yq6qFFS",
        "colab_type": "code",
        "colab": {
          "base_uri": "https://localhost:8080/",
          "height": 170
        },
        "outputId": "c64abdaf-9866-4f30-83a0-e1ccb2c0e67a"
      },
      "source": [
        "unique_elements, counts_elements = np.unique(y_train, return_counts=True)\n",
        "print(\"각 레이블에 대한 빈도수: \")\n",
        "print(np.asarray((unique_elements, counts_elements)))"
      ],
      "execution_count": null,
      "outputs": [
        {
          "output_type": "stream",
          "text": [
            "각 레이블에 대한 빈도수: \n",
            "[[   0    1    2    3    4    5    6    7    8    9   10   11   12   13\n",
            "    14   15   16   17   18   19   20   21   22   23   24   25   26   27\n",
            "    28   29   30   31   32   33   34   35   36   37   38   39   40   41\n",
            "    42   43   44   45]\n",
            " [  55  432   74 3159 1949   17   48   16  139  101  124  390   49  172\n",
            "    26   20  444   39   66  549  269  100   15   41   62   92   24   15\n",
            "    48   19   45   39   32   11   50   10   49   19   19   24   36   30\n",
            "    13   21   12   18]]\n"
          ],
          "name": "stdout"
        }
      ]
    },
    {
      "cell_type": "code",
      "metadata": {
        "id": "tL8XvyYMqyYS",
        "colab_type": "code",
        "colab": {
          "base_uri": "https://localhost:8080/",
          "height": 34
        },
        "outputId": "b0853af6-69f8-42d7-facc-e1ddf517be1b"
      },
      "source": [
        "word_to_index = reuters.get_word_index() # 각 단어와 그에 부여된 인덱스 리턴\n",
        "word_to_index['cooking']"
      ],
      "execution_count": null,
      "outputs": [
        {
          "output_type": "execute_result",
          "data": {
            "text/plain": [
              "8805"
            ]
          },
          "metadata": {
            "tags": []
          },
          "execution_count": 25
        }
      ]
    },
    {
      "cell_type": "code",
      "metadata": {
        "id": "wFITc6C_rF8T",
        "colab_type": "code",
        "colab": {}
      },
      "source": [
        "#좀 더 쉽게 보기\n",
        "index_to_word = {}\n",
        "for key, value in word_to_index.items():\n",
        "  index_to_word[value] = key"
      ],
      "execution_count": null,
      "outputs": []
    },
    {
      "cell_type": "code",
      "metadata": {
        "id": "Nq6KfGxurzuf",
        "colab_type": "code",
        "colab": {
          "base_uri": "https://localhost:8080/",
          "height": 51
        },
        "outputId": "fdaf7f6e-09c4-4197-9c57-ae36d1c06fb9"
      },
      "source": [
        "print(\"빈도수 상위 28842번 단어 : {}\".format(index_to_word[28842]))\n",
        "print(\"빈도수 상위 1번 단어 : {}\".format(index_to_word[1]))"
      ],
      "execution_count": null,
      "outputs": [
        {
          "output_type": "stream",
          "text": [
            "빈도수 상위 28842번 단어 : nondiscriminatory\n",
            "빈도수 상위 1번 단어 : the\n"
          ],
          "name": "stdout"
        }
      ]
    },
    {
      "cell_type": "code",
      "metadata": {
        "id": "KXCZy8tJr513",
        "colab_type": "code",
        "colab": {
          "base_uri": "https://localhost:8080/",
          "height": 122
        },
        "outputId": "9e879c7d-8b83-4470-f9b0-cc18b8173973"
      },
      "source": [
        "#X_train[0] 문장이 어떤 단어로 구성되어 있는지 복원해보기\n",
        "for index, token in enumerate((\"<pad>\", \"<sos>\", \"<unk>\")):\n",
        "  index_to_word[index]=token\n",
        "\n",
        "print(index_to_word[0], index_to_word[1], index_to_word[2], '\\n')\n",
        "print(X_train[0], '\\n')\n",
        "print(' '.join([index_to_word[index] for index in X_train[0]]))"
      ],
      "execution_count": null,
      "outputs": [
        {
          "output_type": "stream",
          "text": [
            "<pad> <sos> <unk> \n",
            "\n",
            "[1, 27595, 28842, 8, 43, 10, 447, 5, 25, 207, 270, 5, 3095, 111, 16, 369, 186, 90, 67, 7, 89, 5, 19, 102, 6, 19, 124, 15, 90, 67, 84, 22, 482, 26, 7, 48, 4, 49, 8, 864, 39, 209, 154, 6, 151, 6, 83, 11, 15, 22, 155, 11, 15, 7, 48, 9, 4579, 1005, 504, 6, 258, 6, 272, 11, 15, 22, 134, 44, 11, 15, 16, 8, 197, 1245, 90, 67, 52, 29, 209, 30, 32, 132, 6, 109, 15, 17, 12] \n",
            "\n",
            "<sos> wattie nondiscriminatory mln loss for plc said at only ended said commonwealth could 1 traders now april 0 a after said from 1985 and from foreign 000 april 0 prices its account year a but in this mln home an states earlier and rise and revs vs 000 its 16 vs 000 a but 3 psbr oils several and shareholders and dividend vs 000 its all 4 vs 000 1 mln agreed largely april 0 are 2 states will billion total and against 000 pct dlrs\n"
          ],
          "name": "stdout"
        }
      ]
    },
    {
      "cell_type": "markdown",
      "metadata": {
        "id": "Ml6Ko8FiuENS",
        "colab_type": "text"
      },
      "source": [
        "**LSTM으로 로이터 뉴스 분류하기**"
      ]
    },
    {
      "cell_type": "code",
      "metadata": {
        "id": "LplJWycBs4Tl",
        "colab_type": "code",
        "colab": {}
      },
      "source": [
        "from tensorflow.keras.datasets import reuters\n",
        "from tensorflow.keras.models import Sequential\n",
        "from tensorflow.keras.layers import Dense, LSTM, Embedding\n",
        "from tensorflow.keras.preprocessing.sequence import pad_sequences\n",
        "from tensorflow.keras.utils import to_categorical\n",
        "from tensorflow.keras.callbacks import EarlyStopping, ModelCheckpoint\n",
        "from tensorflow.keras.models import load_model"
      ],
      "execution_count": null,
      "outputs": []
    },
    {
      "cell_type": "code",
      "metadata": {
        "id": "ouOrGwvGuOc5",
        "colab_type": "code",
        "colab": {}
      },
      "source": [
        "#학습에서는 상위 빈도 1000번째 까지 단어들만 자르고, 분배 비율은 0.2\n",
        "(X_train, y_train), (X_test, y_test) = reuters.load_data(num_words=1000, test_split=0.2)"
      ],
      "execution_count": null,
      "outputs": []
    },
    {
      "cell_type": "code",
      "metadata": {
        "id": "d61ctmNgujzE",
        "colab_type": "code",
        "colab": {}
      },
      "source": [
        "#뉴스 기사마다 단어의 수가 다르기 때문에, 모델의 입력으로 사용하기 위해서는 모든 뉴스 기사의 길이 동일하게 맞춤\n",
        "max_len = 100\n",
        "X_train = pad_sequences(X_train, maxlen=max_len) #훈련용 뉴스 기사 패딩\n",
        "X_test = pad_sequences(X_test, maxlen=max_len)#테스트용 뉴스 기사 패딩"
      ],
      "execution_count": null,
      "outputs": []
    },
    {
      "cell_type": "code",
      "metadata": {
        "id": "LGINJbRCvG1M",
        "colab_type": "code",
        "colab": {}
      },
      "source": [
        "#레이블에 대해선 원-핫 인코딩하기\n",
        "y_train = to_categorical(y_train)\n",
        "y_test = to_categorical(y_test)"
      ],
      "execution_count": null,
      "outputs": []
    },
    {
      "cell_type": "code",
      "metadata": {
        "id": "2w7yu454vMyE",
        "colab_type": "code",
        "colab": {}
      },
      "source": [
        "model = Sequential()\n",
        "model.add(Embedding(1000, 120)) # 1000개의 단어, 임베딩 벡터 120 차원\n",
        "model.add(LSTM(120)) #히든사이즈 크기\n",
        "model.add(Dense(46, activation='softmax'))"
      ],
      "execution_count": null,
      "outputs": []
    },
    {
      "cell_type": "code",
      "metadata": {
        "id": "I4mU_ZVsv2IT",
        "colab_type": "code",
        "colab": {}
      },
      "source": [
        "#val_loss가 증가하먄 과적합 -> 조기종료\n",
        "es = EarlyStopping(monitor='val_loss', mode = 'min', verbose=1, patience=4)\n",
        "mc = ModelCheckpoint('best_model.h5', monitor='val_acc', mode='max', verbose=1, save_best_only=True)"
      ],
      "execution_count": null,
      "outputs": []
    },
    {
      "cell_type": "code",
      "metadata": {
        "id": "BbKf_R46HjtQ",
        "colab_type": "code",
        "colab": {}
      },
      "source": [
        "model.compile(loss='categorical_crossentropy', optimizer='adam', metrics=['acc'])"
      ],
      "execution_count": null,
      "outputs": []
    },
    {
      "cell_type": "code",
      "metadata": {
        "id": "Ix7Mz942H6K3",
        "colab_type": "code",
        "colab": {
          "base_uri": "https://localhost:8080/",
          "height": 1000
        },
        "outputId": "c923ea6f-a887-42cd-b7f7-348b0aa49a80"
      },
      "source": [
        "history = model.fit(X_train, y_train, batch_size=128, epochs=30, callbacks=[es, mc], validation_data=(X_test, y_test))"
      ],
      "execution_count": null,
      "outputs": [
        {
          "output_type": "stream",
          "text": [
            "Epoch 1/30\n",
            "69/71 [============================>.] - ETA: 0s - loss: 2.6107 - acc: 0.3359\n",
            "Epoch 00001: val_acc improved from -inf to 0.36198, saving model to best_model.h5\n",
            "71/71 [==============================] - 2s 22ms/step - loss: 2.6060 - acc: 0.3369 - val_loss: 2.3630 - val_acc: 0.3620\n",
            "Epoch 2/30\n",
            "70/71 [============================>.] - ETA: 0s - loss: 2.0801 - acc: 0.4602\n",
            "Epoch 00002: val_acc improved from 0.36198 to 0.49555, saving model to best_model.h5\n",
            "71/71 [==============================] - 1s 15ms/step - loss: 2.0803 - acc: 0.4603 - val_loss: 1.9434 - val_acc: 0.4955\n",
            "Epoch 3/30\n",
            "70/71 [============================>.] - ETA: 0s - loss: 2.0718 - acc: 0.4665\n",
            "Epoch 00003: val_acc improved from 0.49555 to 0.50000, saving model to best_model.h5\n",
            "71/71 [==============================] - 1s 15ms/step - loss: 2.0702 - acc: 0.4669 - val_loss: 1.9054 - val_acc: 0.5000\n",
            "Epoch 4/30\n",
            "68/71 [===========================>..] - ETA: 0s - loss: 1.8260 - acc: 0.5339\n",
            "Epoch 00004: val_acc improved from 0.50000 to 0.54898, saving model to best_model.h5\n",
            "71/71 [==============================] - 1s 15ms/step - loss: 1.8229 - acc: 0.5350 - val_loss: 1.8050 - val_acc: 0.5490\n",
            "Epoch 5/30\n",
            "70/71 [============================>.] - ETA: 0s - loss: 1.7316 - acc: 0.5567\n",
            "Epoch 00005: val_acc improved from 0.54898 to 0.55744, saving model to best_model.h5\n",
            "71/71 [==============================] - 1s 15ms/step - loss: 1.7306 - acc: 0.5570 - val_loss: 1.7205 - val_acc: 0.5574\n",
            "Epoch 6/30\n",
            "69/71 [============================>.] - ETA: 0s - loss: 1.6461 - acc: 0.5768\n",
            "Epoch 00006: val_acc improved from 0.55744 to 0.58014, saving model to best_model.h5\n",
            "71/71 [==============================] - 1s 15ms/step - loss: 1.6446 - acc: 0.5773 - val_loss: 1.6630 - val_acc: 0.5801\n",
            "Epoch 7/30\n",
            "71/71 [==============================] - ETA: 0s - loss: 1.6008 - acc: 0.5892\n",
            "Epoch 00007: val_acc improved from 0.58014 to 0.59127, saving model to best_model.h5\n",
            "71/71 [==============================] - 1s 15ms/step - loss: 1.6008 - acc: 0.5892 - val_loss: 1.6416 - val_acc: 0.5913\n",
            "Epoch 8/30\n",
            "70/71 [============================>.] - ETA: 0s - loss: 1.5270 - acc: 0.6106\n",
            "Epoch 00008: val_acc improved from 0.59127 to 0.60062, saving model to best_model.h5\n",
            "71/71 [==============================] - 1s 15ms/step - loss: 1.5263 - acc: 0.6110 - val_loss: 1.6078 - val_acc: 0.6006\n",
            "Epoch 9/30\n",
            "70/71 [============================>.] - ETA: 0s - loss: 1.4624 - acc: 0.6294\n",
            "Epoch 00009: val_acc improved from 0.60062 to 0.61754, saving model to best_model.h5\n",
            "71/71 [==============================] - 1s 15ms/step - loss: 1.4637 - acc: 0.6290 - val_loss: 1.5339 - val_acc: 0.6175\n",
            "Epoch 10/30\n",
            "67/71 [===========================>..] - ETA: 0s - loss: 1.3930 - acc: 0.6504\n",
            "Epoch 00010: val_acc improved from 0.61754 to 0.62600, saving model to best_model.h5\n",
            "71/71 [==============================] - 1s 15ms/step - loss: 1.3889 - acc: 0.6517 - val_loss: 1.4693 - val_acc: 0.6260\n",
            "Epoch 11/30\n",
            "70/71 [============================>.] - ETA: 0s - loss: 1.3435 - acc: 0.6571\n",
            "Epoch 00011: val_acc improved from 0.62600 to 0.64693, saving model to best_model.h5\n",
            "71/71 [==============================] - 1s 15ms/step - loss: 1.3425 - acc: 0.6574 - val_loss: 1.4242 - val_acc: 0.6469\n",
            "Epoch 12/30\n",
            "69/71 [============================>.] - ETA: 0s - loss: 1.2573 - acc: 0.6861\n",
            "Epoch 00012: val_acc improved from 0.64693 to 0.65450, saving model to best_model.h5\n",
            "71/71 [==============================] - 1s 15ms/step - loss: 1.2568 - acc: 0.6866 - val_loss: 1.3810 - val_acc: 0.6545\n",
            "Epoch 13/30\n",
            "70/71 [============================>.] - ETA: 0s - loss: 1.2135 - acc: 0.6900\n",
            "Epoch 00013: val_acc improved from 0.65450 to 0.67008, saving model to best_model.h5\n",
            "71/71 [==============================] - 1s 15ms/step - loss: 1.2120 - acc: 0.6903 - val_loss: 1.3413 - val_acc: 0.6701\n",
            "Epoch 14/30\n",
            "71/71 [==============================] - ETA: 0s - loss: 1.1413 - acc: 0.7084\n",
            "Epoch 00014: val_acc did not improve from 0.67008\n",
            "71/71 [==============================] - 1s 14ms/step - loss: 1.1413 - acc: 0.7084 - val_loss: 1.3315 - val_acc: 0.6643\n",
            "Epoch 15/30\n",
            "69/71 [============================>.] - ETA: 0s - loss: 1.1199 - acc: 0.7124\n",
            "Epoch 00015: val_acc did not improve from 0.67008\n",
            "71/71 [==============================] - 1s 15ms/step - loss: 1.1182 - acc: 0.7133 - val_loss: 1.2803 - val_acc: 0.6692\n",
            "Epoch 16/30\n",
            "69/71 [============================>.] - ETA: 0s - loss: 1.0615 - acc: 0.7269\n",
            "Epoch 00016: val_acc improved from 0.67008 to 0.67498, saving model to best_model.h5\n",
            "71/71 [==============================] - 1s 15ms/step - loss: 1.0616 - acc: 0.7266 - val_loss: 1.2722 - val_acc: 0.6750\n",
            "Epoch 17/30\n",
            "67/71 [===========================>..] - ETA: 0s - loss: 1.0179 - acc: 0.7381\n",
            "Epoch 00017: val_acc improved from 0.67498 to 0.68477, saving model to best_model.h5\n",
            "71/71 [==============================] - 1s 15ms/step - loss: 1.0196 - acc: 0.7375 - val_loss: 1.2648 - val_acc: 0.6848\n",
            "Epoch 18/30\n",
            "68/71 [===========================>..] - ETA: 0s - loss: 0.9882 - acc: 0.7457\n",
            "Epoch 00018: val_acc did not improve from 0.68477\n",
            "71/71 [==============================] - 1s 14ms/step - loss: 0.9943 - acc: 0.7444 - val_loss: 1.3064 - val_acc: 0.6754\n",
            "Epoch 19/30\n",
            "67/71 [===========================>..] - ETA: 0s - loss: 0.9810 - acc: 0.7444\n",
            "Epoch 00019: val_acc did not improve from 0.68477\n",
            "71/71 [==============================] - 1s 14ms/step - loss: 0.9785 - acc: 0.7454 - val_loss: 1.2811 - val_acc: 0.6821\n",
            "Epoch 20/30\n",
            "68/71 [===========================>..] - ETA: 0s - loss: 0.9309 - acc: 0.7565\n",
            "Epoch 00020: val_acc improved from 0.68477 to 0.69145, saving model to best_model.h5\n",
            "71/71 [==============================] - 1s 15ms/step - loss: 0.9294 - acc: 0.7568 - val_loss: 1.2466 - val_acc: 0.6915\n",
            "Epoch 21/30\n",
            "68/71 [===========================>..] - ETA: 0s - loss: 0.8889 - acc: 0.7699\n",
            "Epoch 00021: val_acc improved from 0.69145 to 0.69323, saving model to best_model.h5\n",
            "71/71 [==============================] - 1s 15ms/step - loss: 0.8901 - acc: 0.7689 - val_loss: 1.2472 - val_acc: 0.6932\n",
            "Epoch 22/30\n",
            "67/71 [===========================>..] - ETA: 0s - loss: 0.8598 - acc: 0.7760\n",
            "Epoch 00022: val_acc improved from 0.69323 to 0.69902, saving model to best_model.h5\n",
            "71/71 [==============================] - 1s 15ms/step - loss: 0.8573 - acc: 0.7761 - val_loss: 1.2253 - val_acc: 0.6990\n",
            "Epoch 23/30\n",
            "69/71 [============================>.] - ETA: 0s - loss: 0.8149 - acc: 0.7892\n",
            "Epoch 00023: val_acc did not improve from 0.69902\n",
            "71/71 [==============================] - 1s 14ms/step - loss: 0.8139 - acc: 0.7896 - val_loss: 1.2359 - val_acc: 0.6963\n",
            "Epoch 24/30\n",
            "67/71 [===========================>..] - ETA: 0s - loss: 0.7821 - acc: 0.8018\n",
            "Epoch 00024: val_acc improved from 0.69902 to 0.70481, saving model to best_model.h5\n",
            "71/71 [==============================] - 1s 15ms/step - loss: 0.7807 - acc: 0.8018 - val_loss: 1.2319 - val_acc: 0.7048\n",
            "Epoch 25/30\n",
            "70/71 [============================>.] - ETA: 0s - loss: 0.7533 - acc: 0.8062\n",
            "Epoch 00025: val_acc did not improve from 0.70481\n",
            "71/71 [==============================] - 1s 14ms/step - loss: 0.7540 - acc: 0.8059 - val_loss: 1.2606 - val_acc: 0.7035\n",
            "Epoch 26/30\n",
            "70/71 [============================>.] - ETA: 0s - loss: 0.7275 - acc: 0.8143\n",
            "Epoch 00026: val_acc improved from 0.70481 to 0.70614, saving model to best_model.h5\n",
            "71/71 [==============================] - 1s 15ms/step - loss: 0.7281 - acc: 0.8141 - val_loss: 1.2598 - val_acc: 0.7061\n",
            "Epoch 00026: early stopping\n"
          ],
          "name": "stdout"
        }
      ]
    },
    {
      "cell_type": "code",
      "metadata": {
        "id": "8d5ZhoVDIYv1",
        "colab_type": "code",
        "colab": {
          "base_uri": "https://localhost:8080/",
          "height": 68
        },
        "outputId": "c822df35-a67e-46ea-f3d8-9c4b6c52eac5"
      },
      "source": [
        "loaded_model = load_model('best_model.h5')\n",
        "print(\"\\n 테스트 정확도: %.4f\" % (loaded_model.evaluate(X_test, y_test)[1]))"
      ],
      "execution_count": null,
      "outputs": [
        {
          "output_type": "stream",
          "text": [
            "71/71 [==============================] - 0s 6ms/step - loss: 1.2598 - acc: 0.7061\n",
            "\n",
            " 테스트 정확도: 0.7061\n"
          ],
          "name": "stdout"
        }
      ]
    },
    {
      "cell_type": "code",
      "metadata": {
        "id": "DEDAlAK-JBei",
        "colab_type": "code",
        "colab": {
          "base_uri": "https://localhost:8080/",
          "height": 295
        },
        "outputId": "84b44c84-60dc-4ea9-d570-a5b7c29c9d98"
      },
      "source": [
        "epochs = range(1, len(history.history['acc']) + 1)\n",
        "plt.plot(epochs, history.history['loss'])\n",
        "plt.plot(epochs, history.history['val_loss'])\n",
        "plt.title('model loss')\n",
        "plt.ylabel('loss')\n",
        "plt.xlabel('epoch')\n",
        "plt.legend(['train', 'test'], loc='upper left')\n",
        "plt.show()"
      ],
      "execution_count": null,
      "outputs": [
        {
          "output_type": "display_data",
          "data": {
            "image/png": "[encoded data removed]",
            "text/plain": [
              "<Figure size 432x288 with 1 Axes>"
            ]
          },
          "metadata": {
            "tags": [],
            "needs_background": "light"
          }
        }
      ]
    },
    {
      "cell_type": "code",
      "metadata": {
        "id": "r_Vn8GEgKrPq",
        "colab_type": "code",
        "colab": {}
      },
      "source": [
        ""
      ],
      "execution_count": null,
      "outputs": []
    }
  ]
}