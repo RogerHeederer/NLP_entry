{
  "nbformat": 4,
  "nbformat_minor": 0,
  "metadata": {
    "colab": {
      "name": "RegularExpression.ipynb",
      "provenance": [],
      "collapsed_sections": [],
      "authorship_tag": "ABX9TyMC/N1eTNlNiV5BKz0E3c+A",
      "include_colab_link": true
    },
    "kernelspec": {
      "name": "python3",
      "display_name": "Python 3"
    }
  },
  "cells": [
    {
      "cell_type": "markdown",
      "metadata": {
        "id": "view-in-github",
        "colab_type": "text"
      },
      "source": [
        "<a href=\"https://colab.research.google.com/github/RogerHeederer/NLP_entry/blob/master/RegularExpression.ipynb\" target=\"_parent\"><img src=\"https://colab.research.google.com/assets/colab-badge.svg\" alt=\"Open In Colab\"/></a>"
      ]
    },
    {
      "cell_type": "markdown",
      "metadata": {
        "id": "XVozT3o7udqm",
        "colab_type": "text"
      },
      "source": [
        "Reference Source : wikidocs.net 유영준님 자료\n",
        "\n",
        "스스로 학습하면서 필요한 부분에는 추가적 설명, 소스 코드 삽입 및 수정 등이 있습니다. 영리적 목적이 아닌, 자기 계발 목적으로 정리한 자료입니다."
      ]
    },
    {
      "cell_type": "code",
      "metadata": {
        "id": "L0wMSQZcuHQU",
        "colab_type": "code",
        "colab": {}
      },
      "source": [
        "# . 기호\n",
        "import re\n",
        "r = re.compile(\"a.c\") # a와 c 사이에 어떤 1개의 문자라도 올 수 있음\n",
        "r.search(\"kkk\")"
      ],
      "execution_count": 2,
      "outputs": []
    },
    {
      "cell_type": "code",
      "metadata": {
        "id": "DLHlCwnMuo4f",
        "colab_type": "code",
        "colab": {
          "base_uri": "https://localhost:8080/",
          "height": 35
        },
        "outputId": "33ce61f0-3781-4323-fc4e-87f52ebe7bf8"
      },
      "source": [
        "r.search(\"abc\")"
      ],
      "execution_count": 3,
      "outputs": [
        {
          "output_type": "execute_result",
          "data": {
            "text/plain": [
              "<_sre.SRE_Match object; span=(0, 3), match='abc'>"
            ]
          },
          "metadata": {
            "tags": []
          },
          "execution_count": 3
        }
      ]
    },
    {
      "cell_type": "code",
      "metadata": {
        "id": "kW50AaBNu31b",
        "colab_type": "code",
        "colab": {
          "base_uri": "https://localhost:8080/",
          "height": 35
        },
        "outputId": "5216f9e1-4253-4310-9373-928f512a6f65"
      },
      "source": [
        "# ? 기호 : ? 앞의 문자가 존재할 수도 있고, 아닐수도 있는 경우\n",
        "r = re.compile(\"ab?c\")\n",
        "r.search(\"abc\")"
      ],
      "execution_count": 6,
      "outputs": [
        {
          "output_type": "execute_result",
          "data": {
            "text/plain": [
              "<_sre.SRE_Match object; span=(0, 3), match='abc'>"
            ]
          },
          "metadata": {
            "tags": []
          },
          "execution_count": 6
        }
      ]
    },
    {
      "cell_type": "code",
      "metadata": {
        "id": "r6IBRUhEvlXU",
        "colab_type": "code",
        "colab": {
          "base_uri": "https://localhost:8080/",
          "height": 35
        },
        "outputId": "2e025356-6ca5-4b4c-f3ac-8d9fe9635c5f"
      },
      "source": [
        "r.search(\"ac\")"
      ],
      "execution_count": 7,
      "outputs": [
        {
          "output_type": "execute_result",
          "data": {
            "text/plain": [
              "<_sre.SRE_Match object; span=(0, 2), match='ac'>"
            ]
          },
          "metadata": {
            "tags": []
          },
          "execution_count": 7
        }
      ]
    },
    {
      "cell_type": "code",
      "metadata": {
        "id": "Eg_mac_wvviE",
        "colab_type": "code",
        "colab": {
          "base_uri": "https://localhost:8080/",
          "height": 35
        },
        "outputId": "d420ba9c-be75-41ad-b944-3e50815a7625"
      },
      "source": [
        "r.search(\"aabc\")"
      ],
      "execution_count": 8,
      "outputs": [
        {
          "output_type": "execute_result",
          "data": {
            "text/plain": [
              "<_sre.SRE_Match object; span=(1, 4), match='abc'>"
            ]
          },
          "metadata": {
            "tags": []
          },
          "execution_count": 8
        }
      ]
    },
    {
      "cell_type": "code",
      "metadata": {
        "id": "AGP2IMiXvy3s",
        "colab_type": "code",
        "colab": {}
      },
      "source": [
        "# * 기호 : * 바로 앞의 문자가 0개 이상일 경우 표시함\n",
        "r = re.compile(\"ab*c\")\n",
        "r.search(\"abbbbbbc\")\n",
        "r.search(\"a\")"
      ],
      "execution_count": 11,
      "outputs": []
    },
    {
      "cell_type": "code",
      "metadata": {
        "id": "BA_pwmLuwY1L",
        "colab_type": "code",
        "colab": {}
      },
      "source": [
        "# + 기호 : 앞선 * 와 같은데, 앞의 문자가 최소 1개 이상일 경우\n",
        "r=re.compile(\"ab+c\")\n",
        "r.search(\"ac\")"
      ],
      "execution_count": 12,
      "outputs": []
    },
    {
      "cell_type": "code",
      "metadata": {
        "id": "4eD46Ssuw65s",
        "colab_type": "code",
        "colab": {
          "base_uri": "https://localhost:8080/",
          "height": 35
        },
        "outputId": "24c69f29-b563-46aa-bd55-fb9d1c13a1cf"
      },
      "source": [
        "r.search(\"abc\")"
      ],
      "execution_count": 14,
      "outputs": [
        {
          "output_type": "execute_result",
          "data": {
            "text/plain": [
              "<_sre.SRE_Match object; span=(0, 3), match='abc'>"
            ]
          },
          "metadata": {
            "tags": []
          },
          "execution_count": 14
        }
      ]
    },
    {
      "cell_type": "code",
      "metadata": {
        "id": "cdDokBllw8hl",
        "colab_type": "code",
        "colab": {}
      },
      "source": [
        "# ^ 기호 : ^a  a로 시작되는 문자열만 찾아냄\n",
        "r = re.compile(\"^a\")\n",
        "r.search(\"bbc\")"
      ],
      "execution_count": 17,
      "outputs": []
    },
    {
      "cell_type": "code",
      "metadata": {
        "id": "iWg61iR9xMz0",
        "colab_type": "code",
        "colab": {
          "base_uri": "https://localhost:8080/",
          "height": 35
        },
        "outputId": "38b2e239-8bad-48ac-b9fe-1335aa509523"
      },
      "source": [
        "r.search(\"ab\")"
      ],
      "execution_count": 18,
      "outputs": [
        {
          "output_type": "execute_result",
          "data": {
            "text/plain": [
              "<_sre.SRE_Match object; span=(0, 1), match='a'>"
            ]
          },
          "metadata": {
            "tags": []
          },
          "execution_count": 18
        }
      ]
    },
    {
      "cell_type": "code",
      "metadata": {
        "id": "ZN0TlenpxOJN",
        "colab_type": "code",
        "colab": {}
      },
      "source": [
        "# {숫자} 기호 : ab{2}c -> a와 c 사이에 존재하는 b가 2개인 문자열만 매칭\n",
        "r = re.compile(\"ab{2}c\")\n",
        "r.search(\"ac\")"
      ],
      "execution_count": 19,
      "outputs": []
    },
    {
      "cell_type": "code",
      "metadata": {
        "id": "s_tQ9nsZzP8t",
        "colab_type": "code",
        "colab": {}
      },
      "source": [
        "r.search(\"abc\")"
      ],
      "execution_count": 20,
      "outputs": []
    },
    {
      "cell_type": "code",
      "metadata": {
        "id": "jo-eCToFzRau",
        "colab_type": "code",
        "colab": {
          "base_uri": "https://localhost:8080/",
          "height": 35
        },
        "outputId": "837b4d14-1383-4ec6-e7a2-c66b8967a4cc"
      },
      "source": [
        "r.search(\"abbc\")"
      ],
      "execution_count": 22,
      "outputs": [
        {
          "output_type": "execute_result",
          "data": {
            "text/plain": [
              "<_sre.SRE_Match object; span=(0, 4), match='abbc'>"
            ]
          },
          "metadata": {
            "tags": []
          },
          "execution_count": 22
        }
      ]
    },
    {
      "cell_type": "code",
      "metadata": {
        "id": "kp47qbpjzVW9",
        "colab_type": "code",
        "colab": {
          "base_uri": "https://localhost:8080/",
          "height": 35
        },
        "outputId": "d3da7d4f-0eec-48aa-fe2d-d983040e8a26"
      },
      "source": [
        "r.search(\"qpabbc\")"
      ],
      "execution_count": 25,
      "outputs": [
        {
          "output_type": "execute_result",
          "data": {
            "text/plain": [
              "<_sre.SRE_Match object; span=(2, 6), match='abbc'>"
            ]
          },
          "metadata": {
            "tags": []
          },
          "execution_count": 25
        }
      ]
    },
    {
      "cell_type": "code",
      "metadata": {
        "id": "K-RCkTKHzaKO",
        "colab_type": "code",
        "colab": {}
      },
      "source": [
        "# {숫자1, 숫자2} 기호 : ab{2,8}c -> a와 c 사이에 b가 존재하면서 b는 2개 이상 8개 이하인 문자열\n",
        "r = re.compile(\"ab{2,8}c\")\n",
        "r.search(\"ac\")"
      ],
      "execution_count": 26,
      "outputs": []
    },
    {
      "cell_type": "code",
      "metadata": {
        "id": "YPJcY-bqHwzh",
        "colab_type": "code",
        "colab": {}
      },
      "source": [
        "r.search(\"abc\")"
      ],
      "execution_count": 27,
      "outputs": []
    },
    {
      "cell_type": "code",
      "metadata": {
        "id": "hAxRYWhPH04T",
        "colab_type": "code",
        "colab": {
          "base_uri": "https://localhost:8080/",
          "height": 35
        },
        "outputId": "6dfc736c-5cd6-4cc4-994b-3ce491a4af8b"
      },
      "source": [
        "r.search(\"abbbbbc\")"
      ],
      "execution_count": 28,
      "outputs": [
        {
          "output_type": "execute_result",
          "data": {
            "text/plain": [
              "<_sre.SRE_Match object; span=(0, 7), match='abbbbbc'>"
            ]
          },
          "metadata": {
            "tags": []
          },
          "execution_count": 28
        }
      ]
    },
    {
      "cell_type": "code",
      "metadata": {
        "id": "3p3NDrRrH39M",
        "colab_type": "code",
        "colab": {}
      },
      "source": [
        "r.search(\"abbbbbbbbbbc\")"
      ],
      "execution_count": 30,
      "outputs": []
    },
    {
      "cell_type": "code",
      "metadata": {
        "id": "VIDumz7XH56s",
        "colab_type": "code",
        "colab": {}
      },
      "source": [
        "# {숫자,} 기호 : a{2,}bc -? bc가 뒤에 붙으면서 a의 갯수가 2개 이상인 문자\n",
        "r = re.compile(\"a{2,}bc\")\n",
        "r.search(\"bc\")\n",
        "r.search(\"aa\")"
      ],
      "execution_count": 31,
      "outputs": []
    },
    {
      "cell_type": "code",
      "metadata": {
        "id": "VlWP7uepIQOc",
        "colab_type": "code",
        "colab": {
          "base_uri": "https://localhost:8080/",
          "height": 35
        },
        "outputId": "303a5928-8d95-44b1-8a07-36057da90371"
      },
      "source": [
        "r.search(\"aabc\")"
      ],
      "execution_count": 32,
      "outputs": [
        {
          "output_type": "execute_result",
          "data": {
            "text/plain": [
              "<_sre.SRE_Match object; span=(0, 4), match='aabc'>"
            ]
          },
          "metadata": {
            "tags": []
          },
          "execution_count": 32
        }
      ]
    },
    {
      "cell_type": "code",
      "metadata": {
        "id": "m0IQhJFcIRz1",
        "colab_type": "code",
        "colab": {
          "base_uri": "https://localhost:8080/",
          "height": 35
        },
        "outputId": "b6ef1b6e-9448-4e8e-bfcd-207fbaf63a8f"
      },
      "source": [
        "r.search(\"aaaaabc\")"
      ],
      "execution_count": 33,
      "outputs": [
        {
          "output_type": "execute_result",
          "data": {
            "text/plain": [
              "<_sre.SRE_Match object; span=(0, 7), match='aaaaabc'>"
            ]
          },
          "metadata": {
            "tags": []
          },
          "execution_count": 33
        }
      ]
    },
    {
      "cell_type": "code",
      "metadata": {
        "id": "7D5KnKWVIUl1",
        "colab_type": "code",
        "colab": {}
      },
      "source": [
        "# [] 기호 : [abc]면 a 또는 b 또는 c가 들어가 있는 문자열과 매치\n",
        "r=re.compile(\"[abc]\")\n",
        "r.search(\"zzz\")"
      ],
      "execution_count": 35,
      "outputs": []
    },
    {
      "cell_type": "code",
      "metadata": {
        "id": "xo_QCcEUIjKk",
        "colab_type": "code",
        "colab": {
          "base_uri": "https://localhost:8080/",
          "height": 35
        },
        "outputId": "2557d859-87ae-451a-e8de-d2105df5d8ae"
      },
      "source": [
        "r.search(\"aaaaa\")"
      ],
      "execution_count": 36,
      "outputs": [
        {
          "output_type": "execute_result",
          "data": {
            "text/plain": [
              "<_sre.SRE_Match object; span=(0, 1), match='a'>"
            ]
          },
          "metadata": {
            "tags": []
          },
          "execution_count": 36
        }
      ]
    },
    {
      "cell_type": "code",
      "metadata": {
        "id": "tzViTXm1IrNE",
        "colab_type": "code",
        "colab": {
          "base_uri": "https://localhost:8080/",
          "height": 35
        },
        "outputId": "d78d9d46-bd80-4f03-fdb4-121bf1c5769e"
      },
      "source": [
        "r.search(\"baac\")"
      ],
      "execution_count": 37,
      "outputs": [
        {
          "output_type": "execute_result",
          "data": {
            "text/plain": [
              "<_sre.SRE_Match object; span=(0, 1), match='b'>"
            ]
          },
          "metadata": {
            "tags": []
          },
          "execution_count": 37
        }
      ]
    },
    {
      "cell_type": "code",
      "metadata": {
        "id": "ddPj9KCRIspU",
        "colab_type": "code",
        "colab": {
          "base_uri": "https://localhost:8080/",
          "height": 35
        },
        "outputId": "6f5baf10-fe13-4d36-d0e2-1ef065556e86"
      },
      "source": [
        "r = re.compile(\"[a-z]\")\n",
        "r.search(\"acbDAds\")"
      ],
      "execution_count": 38,
      "outputs": [
        {
          "output_type": "execute_result",
          "data": {
            "text/plain": [
              "<_sre.SRE_Match object; span=(0, 1), match='a'>"
            ]
          },
          "metadata": {
            "tags": []
          },
          "execution_count": 38
        }
      ]
    },
    {
      "cell_type": "code",
      "metadata": {
        "id": "LV5KQKEOI4yV",
        "colab_type": "code",
        "colab": {}
      },
      "source": [
        "# [^ 기호 : [^abc]  a또는 b또는 c가 들어간 문자열을 제외한 모든 문자\n",
        "r = re.compile(\"[^abc]\")\n",
        "r.search(\"a\")\n",
        "r.search(\"ab\")"
      ],
      "execution_count": 39,
      "outputs": []
    },
    {
      "cell_type": "code",
      "metadata": {
        "id": "b-jCkDGeJM2U",
        "colab_type": "code",
        "colab": {
          "base_uri": "https://localhost:8080/",
          "height": 35
        },
        "outputId": "a86c0779-bae6-4c71-9a1b-90261cdf519c"
      },
      "source": [
        "r.search(\"d\")"
      ],
      "execution_count": 40,
      "outputs": [
        {
          "output_type": "execute_result",
          "data": {
            "text/plain": [
              "<_sre.SRE_Match object; span=(0, 1), match='d'>"
            ]
          },
          "metadata": {
            "tags": []
          },
          "execution_count": 40
        }
      ]
    },
    {
      "cell_type": "markdown",
      "metadata": {
        "id": "PYLarUzPJYVL",
        "colab_type": "text"
      },
      "source": [
        "**정규표현식 모듈 함수**"
      ]
    },
    {
      "cell_type": "code",
      "metadata": {
        "id": "_BZU75lxJO6c",
        "colab_type": "code",
        "colab": {
          "base_uri": "https://localhost:8080/",
          "height": 35
        },
        "outputId": "59037b9a-c961-4b0a-a339-09fc3b56d1bb"
      },
      "source": [
        "r = re.compile(\"ab.\")\n",
        "r.search(\"kkkabc\")"
      ],
      "execution_count": 41,
      "outputs": [
        {
          "output_type": "execute_result",
          "data": {
            "text/plain": [
              "<_sre.SRE_Match object; span=(3, 6), match='abc'>"
            ]
          },
          "metadata": {
            "tags": []
          },
          "execution_count": 41
        }
      ]
    },
    {
      "cell_type": "code",
      "metadata": {
        "id": "BtfO-C_cJeId",
        "colab_type": "code",
        "colab": {}
      },
      "source": [
        "r.match(\"kkkabc\")"
      ],
      "execution_count": 42,
      "outputs": []
    },
    {
      "cell_type": "code",
      "metadata": {
        "id": "hJ250BLPJg_M",
        "colab_type": "code",
        "colab": {
          "base_uri": "https://localhost:8080/",
          "height": 35
        },
        "outputId": "d3cc3094-a8b6-477d-82ff-0fdd24c9b393"
      },
      "source": [
        "r.match(\"abddfd\")"
      ],
      "execution_count": 44,
      "outputs": [
        {
          "output_type": "execute_result",
          "data": {
            "text/plain": [
              "<_sre.SRE_Match object; span=(0, 3), match='abd'>"
            ]
          },
          "metadata": {
            "tags": []
          },
          "execution_count": 44
        }
      ]
    },
    {
      "cell_type": "code",
      "metadata": {
        "id": "wySXOOnOJjpE",
        "colab_type": "code",
        "colab": {
          "base_uri": "https://localhost:8080/",
          "height": 35
        },
        "outputId": "ae125c4a-4d3f-4425-ec2d-2431a67cd0f7"
      },
      "source": [
        "# re.split()\n",
        "text = \"사과 딸기 메론 바나나\"\n",
        "re.split(\" \", text)"
      ],
      "execution_count": 46,
      "outputs": [
        {
          "output_type": "execute_result",
          "data": {
            "text/plain": [
              "['사과', '딸기', '메론', '바나나']"
            ]
          },
          "metadata": {
            "tags": []
          },
          "execution_count": 46
        }
      ]
    },
    {
      "cell_type": "code",
      "metadata": {
        "id": "aO96kimTJ3EH",
        "colab_type": "code",
        "colab": {
          "base_uri": "https://localhost:8080/",
          "height": 35
        },
        "outputId": "406d320d-50ed-4148-ebfd-87005a91d781"
      },
      "source": [
        "text = \"\"\"사과\n",
        "딸기\n",
        "수박\n",
        "메론\n",
        "바나나\"\"\"\n",
        "\n",
        "re.split(\"\\n\", text)"
      ],
      "execution_count": 47,
      "outputs": [
        {
          "output_type": "execute_result",
          "data": {
            "text/plain": [
              "['사과', '딸기', '수박', '메론', '바나나']"
            ]
          },
          "metadata": {
            "tags": []
          },
          "execution_count": 47
        }
      ]
    },
    {
      "cell_type": "code",
      "metadata": {
        "id": "LHpbg27fKEsd",
        "colab_type": "code",
        "colab": {
          "base_uri": "https://localhost:8080/",
          "height": 35
        },
        "outputId": "27c729ce-df3a-4971-9dd0-7b0f6b49226f"
      },
      "source": [
        "text = \"사과+딸기+수박+메론+바나나\"\n",
        "re.split(\"\\+\",text)"
      ],
      "execution_count": 49,
      "outputs": [
        {
          "output_type": "execute_result",
          "data": {
            "text/plain": [
              "['사과', '딸기', '수박', '메론', '바나나']"
            ]
          },
          "metadata": {
            "tags": []
          },
          "execution_count": 49
        }
      ]
    },
    {
      "cell_type": "code",
      "metadata": {
        "id": "E28RCKSAK2F1",
        "colab_type": "code",
        "colab": {
          "base_uri": "https://localhost:8080/",
          "height": 35
        },
        "outputId": "12e9dc9b-6702-449c-8c01-b599ffce1212"
      },
      "source": [
        "# re.findall() 정규 표현식과 매치되는 모든 문자열을 리스트로 리턴\n",
        "\n",
        "text = \"이름 : 김철수, 전화번호 : 010 - 1234 - 1234, 나이 : 30, 성별 : 남\"\n",
        "\n",
        "re.findall(\"\\d+\",text)"
      ],
      "execution_count": 53,
      "outputs": [
        {
          "output_type": "execute_result",
          "data": {
            "text/plain": [
              "['010', '1234', '1234', '30']"
            ]
          },
          "metadata": {
            "tags": []
          },
          "execution_count": 53
        }
      ]
    },
    {
      "cell_type": "code",
      "metadata": {
        "id": "hr0ToZaCLtE9",
        "colab_type": "code",
        "colab": {
          "base_uri": "https://localhost:8080/",
          "height": 35
        },
        "outputId": "81cea94d-5d6b-4a66-bf65-27bccaa0c26b"
      },
      "source": [
        "re.findall(\"\\d+\", \"문자열입니다.\")"
      ],
      "execution_count": 54,
      "outputs": [
        {
          "output_type": "execute_result",
          "data": {
            "text/plain": [
              "[]"
            ]
          },
          "metadata": {
            "tags": []
          },
          "execution_count": 54
        }
      ]
    },
    {
      "cell_type": "code",
      "metadata": {
        "id": "iMGVKPCRaWku",
        "colab_type": "code",
        "colab": {
          "base_uri": "https://localhost:8080/",
          "height": 53
        },
        "outputId": "1d72b3c5-dd95-4eeb-91a9-aeca7654fdb8"
      },
      "source": [
        "# re.sub() # 정규 표현식 패턴과 일치하는 문자열을 찾아 다른 문자열로 대체\n",
        "\n",
        "text=\"Regular expression : A regular expression, regex or regexp[1] (sometimes called a rational expression)[2][3] is, in theoretical computer science and formal language theory, a sequence of characters that define a search pattern.\"\n",
        "re.sub('[^a-zA-Z]',' ',text)"
      ],
      "execution_count": 55,
      "outputs": [
        {
          "output_type": "execute_result",
          "data": {
            "application/vnd.google.colaboratory.intrinsic+json": {
              "type": "string"
            },
            "text/plain": [
              "'Regular expression   A regular expression  regex or regexp     sometimes called a rational expression        is  in theoretical computer science and formal language theory  a sequence of characters that define a search pattern '"
            ]
          },
          "metadata": {
            "tags": []
          },
          "execution_count": 55
        }
      ]
    },
    {
      "cell_type": "code",
      "metadata": {
        "id": "WiHu83-rcY8S",
        "colab_type": "code",
        "colab": {
          "base_uri": "https://localhost:8080/",
          "height": 35
        },
        "outputId": "c968eb91-10b2-41dc-a824-d84892bcaf1d"
      },
      "source": [
        "# 정규 표현식 텍스트 전처리 예제\n",
        "\n",
        "text = \"\"\"100 John    PROF\n",
        "101 James   STUD\n",
        "102 Mac   STUD\"\"\"  \n",
        "\n",
        "re.split('\\s+', text)  # \\s+ 정규식은 공백을 찾아내는 것  s(공백 의미) +(최소 1개 이상의 패턴을 찾는다는 의미)\n",
        "\n",
        "# 최소 1개 이상의 공백인 패턴을 찾는다"
      ],
      "execution_count": 56,
      "outputs": [
        {
          "output_type": "execute_result",
          "data": {
            "text/plain": [
              "['100', 'John', 'PROF', '101', 'James', 'STUD', '102', 'Mac', 'STUD']"
            ]
          },
          "metadata": {
            "tags": []
          },
          "execution_count": 56
        }
      ]
    },
    {
      "cell_type": "code",
      "metadata": {
        "id": "AHpqbtTbhCFJ",
        "colab_type": "code",
        "colab": {
          "base_uri": "https://localhost:8080/",
          "height": 35
        },
        "outputId": "14c93924-011d-4d8b-ee0b-62cb2799779d"
      },
      "source": [
        "re.findall('\\d+', text) # 숫자만 뽑아오기"
      ],
      "execution_count": 57,
      "outputs": [
        {
          "output_type": "execute_result",
          "data": {
            "text/plain": [
              "['100', '101', '102']"
            ]
          },
          "metadata": {
            "tags": []
          },
          "execution_count": 57
        }
      ]
    },
    {
      "cell_type": "code",
      "metadata": {
        "id": "6Dhw9UeShZm4",
        "colab_type": "code",
        "colab": {
          "base_uri": "https://localhost:8080/",
          "height": 35
        },
        "outputId": "a361b6e6-85b7-4ea7-8e3e-c4a6defe106b"
      },
      "source": [
        "re.findall('[A-Z]', text) # 대문자만 뽑아오기 "
      ],
      "execution_count": 58,
      "outputs": [
        {
          "output_type": "execute_result",
          "data": {
            "text/plain": [
              "['J', 'P', 'R', 'O', 'F', 'J', 'S', 'T', 'U', 'D', 'M', 'S', 'T', 'U', 'D']"
            ]
          },
          "metadata": {
            "tags": []
          },
          "execution_count": 58
        }
      ]
    },
    {
      "cell_type": "code",
      "metadata": {
        "id": "3q6ZJS27hjGl",
        "colab_type": "code",
        "colab": {
          "base_uri": "https://localhost:8080/",
          "height": 35
        },
        "outputId": "68553a31-34b5-4bf7-ca87-b8ed6db49347"
      },
      "source": [
        "re.findall('[A-Z]{4}', text) # 대문자가 연속적으로 4번 등장하는 경우"
      ],
      "execution_count": 59,
      "outputs": [
        {
          "output_type": "execute_result",
          "data": {
            "text/plain": [
              "['PROF', 'STUD', 'STUD']"
            ]
          },
          "metadata": {
            "tags": []
          },
          "execution_count": 59
        }
      ]
    },
    {
      "cell_type": "code",
      "metadata": {
        "id": "NdC7dctyhvrE",
        "colab_type": "code",
        "colab": {
          "base_uri": "https://localhost:8080/",
          "height": 35
        },
        "outputId": "f7e64da0-9f89-41d2-b2e5-b7d384233629"
      },
      "source": [
        "re.findall('[A-Z][a-z]+', text) #이름 가져오기  처음엔 대문자 그 후엔 소문자 여러번 등장"
      ],
      "execution_count": 61,
      "outputs": [
        {
          "output_type": "execute_result",
          "data": {
            "text/plain": [
              "['John', 'James', 'Mac']"
            ]
          },
          "metadata": {
            "tags": []
          },
          "execution_count": 61
        }
      ]
    },
    {
      "cell_type": "code",
      "metadata": {
        "id": "IpDdUMkhiGDA",
        "colab_type": "code",
        "colab": {}
      },
      "source": [
        "letters_only = re.sub('[^a-zA-z]', ' ', text) # 영문자가 아닌 문자는 전부 공백 처리"
      ],
      "execution_count": 62,
      "outputs": []
    },
    {
      "cell_type": "code",
      "metadata": {
        "id": "soWC4q_7iTWA",
        "colab_type": "code",
        "colab": {
          "base_uri": "https://localhost:8080/",
          "height": 35
        },
        "outputId": "2b5a605c-3ee3-4514-91f6-b0f19119635d"
      },
      "source": [
        "letters_only"
      ],
      "execution_count": 63,
      "outputs": [
        {
          "output_type": "execute_result",
          "data": {
            "application/vnd.google.colaboratory.intrinsic+json": {
              "type": "string"
            },
            "text/plain": [
              "'    John    PROF     James   STUD     Mac   STUD'"
            ]
          },
          "metadata": {
            "tags": []
          },
          "execution_count": 63
        }
      ]
    },
    {
      "cell_type": "markdown",
      "metadata": {
        "id": "bACXkDF2imOZ",
        "colab_type": "text"
      },
      "source": [
        "## 정규 표현식을 활용한 토큰화"
      ]
    },
    {
      "cell_type": "code",
      "metadata": {
        "id": "-bvLtazSiVQN",
        "colab_type": "code",
        "colab": {
          "base_uri": "https://localhost:8080/",
          "height": 55
        },
        "outputId": "5dbf94e3-0ed3-48dd-e4d1-84cc00c6f706"
      },
      "source": [
        "import nltk\n",
        "from nltk.tokenize import RegexpTokenizer\n",
        "tokenizer = RegexpTokenizer(\"[\\w]+\") #토큰에 정규식 넣기\n",
        "print(tokenizer.tokenize(\"Don't be fooled by the dark sounding name, Mr. Jone's Orphanage is as cheery as cheery goes for a pastry shop\"))\n",
        "# 해당 정규식을 적용해서 토크나이즈 하겠다 \n",
        "# \\w 문자 또는 숫자를 의미 and +는 1개 이상인 경우를 의미  즉 문자 또는 숫자가 1개 이상인 경우 인식\n",
        "# 즉, 문자 또는 숫자가 1개 이상인 케이스만 인식한다 -> 이 인식된 텍스트에서 토크나이즈 한다\n",
        "# 문자 또는 숫자가 1개 이상인 경우만 인식이 되어 토크나이즈되니까 토크나이즈 하니까, 구두점은 문자가 아니니 인식을 안한다"
      ],
      "execution_count": 66,
      "outputs": [
        {
          "output_type": "stream",
          "text": [
            "['Don', 't', 'be', 'fooled', 'by', 'the', 'dark', 'sounding', 'name', 'Mr', 'Jone', 's', 'Orphanage', 'is', 'as', 'cheery', 'as', 'cheery', 'goes', 'for', 'a', 'pastry', 'shop']\n"
          ],
          "name": "stdout"
        }
      ]
    },
    {
      "cell_type": "code",
      "metadata": {
        "id": "s1Up0IqYi4pl",
        "colab_type": "code",
        "colab": {
          "base_uri": "https://localhost:8080/",
          "height": 55
        },
        "outputId": "747c4720-50f9-472e-dc7b-87fe51998bb6"
      },
      "source": [
        "tokenizer=RegexpTokenizer(\"[\\s]+\", gaps=True)\n",
        "print(tokenizer.tokenize(\"Don't be fooled by the dark sounding name, Mr. Jone's Orphanage is as cheery as cheery goes for a pastry shop\"))\n",
        "# 위의 예제와 의미가 살짝 다른데, gaps=true  해당 정규식 표현을 토큰으로 나누기 위한 기준으로 삼겠다는 말\n",
        "# \\s는 공백이니 공백을 기준으로 토크나이즈 하겠다.\n",
        "# gaps=True를 안쓰면, 공백만을 인식해서 토크나이즈 하겠다. 즉 공백만 식별한다.\n",
        "# 토크나이즈 기준으로 활용하겠다와, 인식된 것을 토크나이즈 하겠다는 다른 말임. 헷갈리니 주의할 것"
      ],
      "execution_count": 67,
      "outputs": [
        {
          "output_type": "stream",
          "text": [
            "[\"Don't\", 'be', 'fooled', 'by', 'the', 'dark', 'sounding', 'name,', 'Mr.', \"Jone's\", 'Orphanage', 'is', 'as', 'cheery', 'as', 'cheery', 'goes', 'for', 'a', 'pastry', 'shop']\n"
          ],
          "name": "stdout"
        }
      ]
    },
    {
      "cell_type": "code",
      "metadata": {
        "id": "fzKzLKpxjojJ",
        "colab_type": "code",
        "colab": {}
      },
      "source": [
        ""
      ],
      "execution_count": null,
      "outputs": []
    }
  ]
}