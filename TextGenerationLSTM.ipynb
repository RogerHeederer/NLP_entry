{
  "nbformat": 4,
  "nbformat_minor": 0,
  "metadata": {
    "colab": {
      "name": "TextGenerationLSTM.ipynb",
      "provenance": [],
      "authorship_tag": "ABX9TyNJi+FXL/f8XcsebM6lNRgb",
      "include_colab_link": true
    },
    "kernelspec": {
      "name": "python3",
      "display_name": "Python 3"
    },
    "accelerator": "GPU"
  },
  "cells": [
    {
      "cell_type": "markdown",
      "metadata": {
        "id": "view-in-github",
        "colab_type": "text"
      },
      "source": [
        "<a href=\"https://colab.research.google.com/github/RogerHeederer/NLP_entry/blob/master/TextGenerationLSTM.ipynb\" target=\"_parent\"><img src=\"https://colab.research.google.com/assets/colab-badge.svg\" alt=\"Open In Colab\"/></a>"
      ]
    },
    {
      "cell_type": "code",
      "metadata": {
        "id": "Lq6Xf1hfyavE",
        "colab_type": "code",
        "colab": {
          "base_uri": "https://localhost:8080/",
          "height": 122
        },
        "outputId": "5f1117b9-9d94-4c52-e561-10313ddbd8a5"
      },
      "source": [
        "from google.colab import drive\n",
        "drive.mount('/gdrive', force_remount=True)"
      ],
      "execution_count": 4,
      "outputs": [
        {
          "output_type": "stream",
          "text": [
            "Go to this URL in a browser: https://accounts.google.com/o/oauth2/auth?client_id=947318989803-6bn6qk8qdgf4n4g3pfee6491hc0brc4i.apps.googleusercontent.com&redirect_uri=urn%3aietf%3awg%3aoauth%3a2.0%3aoob&scope=email%20https%3a%2f%2fwww.googleapis.com%2fauth%2fdocs.test%20https%3a%2f%2fwww.googleapis.com%2fauth%2fdrive%20https%3a%2f%2fwww.googleapis.com%2fauth%2fdrive.photos.readonly%20https%3a%2f%2fwww.googleapis.com%2fauth%2fpeopleapi.readonly&response_type=code\n",
            "\n",
            "Enter your authorization code:\n",
            "4/4AGABJG-u6m4pWwjPrvDuGsOb0EPSxLyLom2uRM1WIDeAuVIdHkJwtU\n",
            "Mounted at /gdrive\n"
          ],
          "name": "stdout"
        }
      ]
    },
    {
      "cell_type": "code",
      "metadata": {
        "id": "LrnPPRkjzW_s",
        "colab_type": "code",
        "colab": {
          "base_uri": "https://localhost:8080/",
          "height": 400
        },
        "outputId": "5be2774f-145c-45d6-c5c1-4526118bfb16"
      },
      "source": [
        "import pandas as pd\n",
        "df = pd.read_csv(\"/gdrive/My Drive/RogerHeederer/NLP_entry/data/Article2018.csv\", low_memory=False)\n",
        "df.head(3)"
      ],
      "execution_count": 5,
      "outputs": [
        {
          "output_type": "execute_result",
          "data": {
            "text/html": [
              "<div>\n",
              "<style scoped>\n",
              "    .dataframe tbody tr th:only-of-type {\n",
              "        vertical-align: middle;\n",
              "    }\n",
              "\n",
              "    .dataframe tbody tr th {\n",
              "        vertical-align: top;\n",
              "    }\n",
              "\n",
              "    .dataframe thead th {\n",
              "        text-align: right;\n",
              "    }\n",
              "</style>\n",
              "<table border=\"1\" class=\"dataframe\">\n",
              "  <thead>\n",
              "    <tr style=\"text-align: right;\">\n",
              "      <th></th>\n",
              "      <th>articleID</th>\n",
              "      <th>articleWordCount</th>\n",
              "      <th>byline</th>\n",
              "      <th>documentType</th>\n",
              "      <th>headline</th>\n",
              "      <th>keywords</th>\n",
              "      <th>multimedia</th>\n",
              "      <th>newDesk</th>\n",
              "      <th>printPage</th>\n",
              "      <th>pubDate</th>\n",
              "      <th>sectionName</th>\n",
              "      <th>snippet</th>\n",
              "      <th>source</th>\n",
              "      <th>typeOfMaterial</th>\n",
              "      <th>webURL</th>\n",
              "    </tr>\n",
              "  </thead>\n",
              "  <tbody>\n",
              "    <tr>\n",
              "      <th>0</th>\n",
              "      <td>5adf6684068401528a2aa69b</td>\n",
              "      <td>781</td>\n",
              "      <td>By JOHN BRANCH</td>\n",
              "      <td>article</td>\n",
              "      <td>Former N.F.L. Cheerleaders’ Settlement Offer: ...</td>\n",
              "      <td>['Workplace Hazards and Violations', 'Football...</td>\n",
              "      <td>68</td>\n",
              "      <td>Sports</td>\n",
              "      <td>0</td>\n",
              "      <td>2018-04-24 17:16:49</td>\n",
              "      <td>Pro Football</td>\n",
              "      <td>“I understand that they could meet with us, pa...</td>\n",
              "      <td>The New York Times</td>\n",
              "      <td>News</td>\n",
              "      <td>https://www.nytimes.com/2018/04/24/sports/foot...</td>\n",
              "    </tr>\n",
              "    <tr>\n",
              "      <th>1</th>\n",
              "      <td>5adf653f068401528a2aa697</td>\n",
              "      <td>656</td>\n",
              "      <td>By LISA FRIEDMAN</td>\n",
              "      <td>article</td>\n",
              "      <td>E.P.A. to Unveil a New Rule. Its Effect: Less ...</td>\n",
              "      <td>['Environmental Protection Agency', 'Pruitt, S...</td>\n",
              "      <td>68</td>\n",
              "      <td>Climate</td>\n",
              "      <td>0</td>\n",
              "      <td>2018-04-24 17:11:21</td>\n",
              "      <td>Unknown</td>\n",
              "      <td>The agency plans to publish a new regulation T...</td>\n",
              "      <td>The New York Times</td>\n",
              "      <td>News</td>\n",
              "      <td>https://www.nytimes.com/2018/04/24/climate/epa...</td>\n",
              "    </tr>\n",
              "    <tr>\n",
              "      <th>2</th>\n",
              "      <td>5adf4626068401528a2aa628</td>\n",
              "      <td>2427</td>\n",
              "      <td>By PETE WELLS</td>\n",
              "      <td>article</td>\n",
              "      <td>The New Noma, Explained</td>\n",
              "      <td>['Restaurants', 'Noma (Copenhagen, Restaurant)...</td>\n",
              "      <td>66</td>\n",
              "      <td>Dining</td>\n",
              "      <td>0</td>\n",
              "      <td>2018-04-24 14:58:44</td>\n",
              "      <td>Unknown</td>\n",
              "      <td>What’s it like to eat at the second incarnatio...</td>\n",
              "      <td>The New York Times</td>\n",
              "      <td>News</td>\n",
              "      <td>https://www.nytimes.com/2018/04/24/dining/noma...</td>\n",
              "    </tr>\n",
              "  </tbody>\n",
              "</table>\n",
              "</div>"
            ],
            "text/plain": [
              "                  articleID  ...                                             webURL\n",
              "0  5adf6684068401528a2aa69b  ...  https://www.nytimes.com/2018/04/24/sports/foot...\n",
              "1  5adf653f068401528a2aa697  ...  https://www.nytimes.com/2018/04/24/climate/epa...\n",
              "2  5adf4626068401528a2aa628  ...  https://www.nytimes.com/2018/04/24/dining/noma...\n",
              "\n",
              "[3 rows x 15 columns]"
            ]
          },
          "metadata": {
            "tags": []
          },
          "execution_count": 5
        }
      ]
    },
    {
      "cell_type": "code",
      "metadata": {
        "id": "7BZ085vgzm9l",
        "colab_type": "code",
        "colab": {}
      },
      "source": [
        "import pandas as pd\n",
        "from string import punctuation\n",
        "from tensorflow.keras.preprocessing.text import Tokenizer\n",
        "from tensorflow.keras.preprocessing.sequence import pad_sequences\n",
        "import numpy as np\n",
        "from tensorflow.keras.utils import to_categorical"
      ],
      "execution_count": 6,
      "outputs": []
    },
    {
      "cell_type": "code",
      "metadata": {
        "id": "FNr3MmZ00xOU",
        "colab_type": "code",
        "colab": {
          "base_uri": "https://localhost:8080/",
          "height": 102
        },
        "outputId": "9087aa5f-5752-47bb-f527-b6d12a88beae"
      },
      "source": [
        "print('열의 개수: ', len(df.columns))\n",
        "print(df.columns)"
      ],
      "execution_count": 7,
      "outputs": [
        {
          "output_type": "stream",
          "text": [
            "열의 개수:  15\n",
            "Index(['articleID', 'articleWordCount', 'byline', 'documentType', 'headline',\n",
            "       'keywords', 'multimedia', 'newDesk', 'printPage', 'pubDate',\n",
            "       'sectionName', 'snippet', 'source', 'typeOfMaterial', 'webURL'],\n",
            "      dtype='object')\n"
          ],
          "name": "stdout"
        }
      ]
    },
    {
      "cell_type": "code",
      "metadata": {
        "id": "CHlXC0x204-_",
        "colab_type": "code",
        "colab": {
          "base_uri": "https://localhost:8080/",
          "height": 221
        },
        "outputId": "6caf0542-664e-41ed-d697-3733c2459092"
      },
      "source": [
        "df['headline'].isnull()"
      ],
      "execution_count": 8,
      "outputs": [
        {
          "output_type": "execute_result",
          "data": {
            "text/plain": [
              "0       False\n",
              "1       False\n",
              "2       False\n",
              "3       False\n",
              "4       False\n",
              "        ...  \n",
              "1319    False\n",
              "1320    False\n",
              "1321    False\n",
              "1322    False\n",
              "1323    False\n",
              "Name: headline, Length: 1324, dtype: bool"
            ]
          },
          "metadata": {
            "tags": []
          },
          "execution_count": 8
        }
      ]
    },
    {
      "cell_type": "code",
      "metadata": {
        "id": "RhEMqvWq1O3u",
        "colab_type": "code",
        "colab": {
          "base_uri": "https://localhost:8080/",
          "height": 34
        },
        "outputId": "6922afc5-981c-462b-b398-e577bfe412a0"
      },
      "source": [
        "df['headline'].isnull().values.any()"
      ],
      "execution_count": 9,
      "outputs": [
        {
          "output_type": "execute_result",
          "data": {
            "text/plain": [
              "False"
            ]
          },
          "metadata": {
            "tags": []
          },
          "execution_count": 9
        }
      ]
    },
    {
      "cell_type": "code",
      "metadata": {
        "id": "MngXZX701SIO",
        "colab_type": "code",
        "colab": {
          "base_uri": "https://localhost:8080/",
          "height": 102
        },
        "outputId": "b9b6e9dc-7764-4407-951a-e8e7a1b9a6b1"
      },
      "source": [
        "headline = []\n",
        "headline.extend(list(df.headline.values))\n",
        "headline[:5]"
      ],
      "execution_count": 10,
      "outputs": [
        {
          "output_type": "execute_result",
          "data": {
            "text/plain": [
              "['Former N.F.L. Cheerleaders’ Settlement Offer: $1 and a Meeting With Goodell',\n",
              " 'E.P.A. to Unveil a New Rule. Its Effect: Less Science in Policymaking.',\n",
              " 'The New Noma, Explained',\n",
              " 'Unknown',\n",
              " 'Unknown']"
            ]
          },
          "metadata": {
            "tags": []
          },
          "execution_count": 10
        }
      ]
    },
    {
      "cell_type": "code",
      "metadata": {
        "id": "4yLtEdT61YP-",
        "colab_type": "code",
        "colab": {
          "base_uri": "https://localhost:8080/",
          "height": 34
        },
        "outputId": "7524335f-394c-4ee5-c589-aea680a921ea"
      },
      "source": [
        "#Unknown 노이즈 데이터 제거하기\n",
        "print('총 샘플 개수 : {}'.format(len(headline)))"
      ],
      "execution_count": 11,
      "outputs": [
        {
          "output_type": "stream",
          "text": [
            "총 샘플 개수 : 1324\n"
          ],
          "name": "stdout"
        }
      ]
    },
    {
      "cell_type": "code",
      "metadata": {
        "id": "_NgFo-Ak1o7n",
        "colab_type": "code",
        "colab": {
          "base_uri": "https://localhost:8080/",
          "height": 34
        },
        "outputId": "5d9d293c-fa5c-4a1c-86d2-42178680791d"
      },
      "source": [
        "headline = [n for n in headline if n != 'Unknown']\n",
        "print('노이즈값 제거 후 샘플 개수 : {}'.format(len(headline)))"
      ],
      "execution_count": 12,
      "outputs": [
        {
          "output_type": "stream",
          "text": [
            "노이즈값 제거 후 샘플 개수 : 1214\n"
          ],
          "name": "stdout"
        }
      ]
    },
    {
      "cell_type": "code",
      "metadata": {
        "id": "P-l_veyU16Dw",
        "colab_type": "code",
        "colab": {
          "base_uri": "https://localhost:8080/",
          "height": 102
        },
        "outputId": "a3e5221b-55b8-45fd-cf13-92966eb58f5b"
      },
      "source": [
        "headline[:5]"
      ],
      "execution_count": 13,
      "outputs": [
        {
          "output_type": "execute_result",
          "data": {
            "text/plain": [
              "['Former N.F.L. Cheerleaders’ Settlement Offer: $1 and a Meeting With Goodell',\n",
              " 'E.P.A. to Unveil a New Rule. Its Effect: Less Science in Policymaking.',\n",
              " 'The New Noma, Explained',\n",
              " 'How a Bag of Texas Dirt  Became a Times Tradition',\n",
              " 'Is School a Place for Self-Expression?']"
            ]
          },
          "metadata": {
            "tags": []
          },
          "execution_count": 13
        }
      ]
    },
    {
      "cell_type": "code",
      "metadata": {
        "id": "gdNrCBpR18oy",
        "colab_type": "code",
        "colab": {
          "base_uri": "https://localhost:8080/",
          "height": 102
        },
        "outputId": "aee3bd48-3b3c-422d-93cb-cf68aaba05b3"
      },
      "source": [
        "#데이터 전처리 하기\n",
        "def repreprocessing(s):\n",
        "  s = s.encode(\"utf8\").decode(\"ascii\", 'ignore')\n",
        "  return ''.join(c for c in s if c not in punctuation).lower() # 구두점 제거 및 소문자화\n",
        "\n",
        "text = [repreprocessing(x) for x in headline]\n",
        "text[:5]"
      ],
      "execution_count": 14,
      "outputs": [
        {
          "output_type": "execute_result",
          "data": {
            "text/plain": [
              "['former nfl cheerleaders settlement offer 1 and a meeting with goodell',\n",
              " 'epa to unveil a new rule its effect less science in policymaking',\n",
              " 'the new noma explained',\n",
              " 'how a bag of texas dirt  became a times tradition',\n",
              " 'is school a place for selfexpression']"
            ]
          },
          "metadata": {
            "tags": []
          },
          "execution_count": 14
        }
      ]
    },
    {
      "cell_type": "code",
      "metadata": {
        "id": "7KgEM9_A2lJP",
        "colab_type": "code",
        "colab": {
          "base_uri": "https://localhost:8080/",
          "height": 34
        },
        "outputId": "1f6de0d2-277e-4cfd-baef-bf2b5d440815"
      },
      "source": [
        "#단어 집합 만들기\n",
        "t = Tokenizer()\n",
        "t.fit_on_texts(text)\n",
        "vocab_size = len(t.word_index) + 1\n",
        "print('단어 집합의 크기: %d' % vocab_size)"
      ],
      "execution_count": 15,
      "outputs": [
        {
          "output_type": "stream",
          "text": [
            "단어 집합의 크기: 3494\n"
          ],
          "name": "stdout"
        }
      ]
    },
    {
      "cell_type": "code",
      "metadata": {
        "id": "IQNcz-Yy3bsl",
        "colab_type": "code",
        "colab": {
          "base_uri": "https://localhost:8080/",
          "height": 34
        },
        "outputId": "19cea0d0-c223-452e-ad55-42678e718878"
      },
      "source": [
        "t.word_index['the'], t.word_index['a']"
      ],
      "execution_count": 16,
      "outputs": [
        {
          "output_type": "execute_result",
          "data": {
            "text/plain": [
              "(1, 2)"
            ]
          },
          "metadata": {
            "tags": []
          },
          "execution_count": 16
        }
      ]
    },
    {
      "cell_type": "code",
      "metadata": {
        "id": "su06M3Dy3CJW",
        "colab_type": "code",
        "colab": {
          "base_uri": "https://localhost:8080/",
          "height": 204
        },
        "outputId": "4c2ff8ae-968b-4b58-e25d-6723f04873a7"
      },
      "source": [
        "#훈련 데이터 구성하기\n",
        "sequences = list()\n",
        "\n",
        "for line in text:\n",
        "  encoded = t.texts_to_sequences([line])[0] # 각각 문장에 대한 정수 인코딩\n",
        "  for i in range(1, len(encoded)):\n",
        "    sequence = encoded[:i+1]\n",
        "    sequences.append(sequence)\n",
        "\n",
        "sequences[:11]"
      ],
      "execution_count": 17,
      "outputs": [
        {
          "output_type": "execute_result",
          "data": {
            "text/plain": [
              "[[99, 269],\n",
              " [99, 269, 371],\n",
              " [99, 269, 371, 1115],\n",
              " [99, 269, 371, 1115, 582],\n",
              " [99, 269, 371, 1115, 582, 52],\n",
              " [99, 269, 371, 1115, 582, 52, 7],\n",
              " [99, 269, 371, 1115, 582, 52, 7, 2],\n",
              " [99, 269, 371, 1115, 582, 52, 7, 2, 372],\n",
              " [99, 269, 371, 1115, 582, 52, 7, 2, 372, 10],\n",
              " [99, 269, 371, 1115, 582, 52, 7, 2, 372, 10, 1116],\n",
              " [100, 3]]"
            ]
          },
          "metadata": {
            "tags": []
          },
          "execution_count": 17
        }
      ]
    },
    {
      "cell_type": "code",
      "metadata": {
        "id": "X2sAfyuZ5JmJ",
        "colab_type": "code",
        "colab": {}
      },
      "source": [
        "# [[99, 269], # former nfl\n",
        "#  [99, 269, 371], # former nfl cheerleaders\n",
        "#  [99, 269, 371, 1115], # former nfl cheerleaders settlement\n",
        "#  [99, 269, 371, 1115, 582], # former nfl cheerleaders settlement offer\n",
        "#  [99, 269, 371, 1115, 582, 52], # 'former nfl cheerleaders settlement offer 1\n",
        "#  [99, 269, 371, 1115, 582, 52, 7], # former nfl cheerleaders settlement offer 1 and\n",
        "#  [99, 269, 371, 1115, 582, 52, 7, 2], # ... 이하 생략 ...\n",
        "#  [99, 269, 371, 1115, 582, 52, 7, 2, 372],\n",
        "#  [99, 269, 371, 1115, 582, 52, 7, 2, 372, 10],\n",
        "#  [99, 269, 371, 1115, 582, 52, 7, 2, 372, 10, 1116], # 모든 단어가 사용된 완전한 첫번째 문장\n",
        "#  # 바로 위의 줄 : former nfl cheerleaders settlement offer 1 and a meeting with goodell\n",
        "#  [100, 3]] # epa to에 해당되며 두번째 문장이 시작됨."
      ],
      "execution_count": 18,
      "outputs": []
    },
    {
      "cell_type": "code",
      "metadata": {
        "id": "CDeGIyrk5aFZ",
        "colab_type": "code",
        "colab": {
          "base_uri": "https://localhost:8080/",
          "height": 34
        },
        "outputId": "da5872fc-8e9e-4a07-aeba-abb8eab44b6a"
      },
      "source": [
        "#어떤 정수가 어떤 단어를 의미하는지 알아보자\n",
        "index_to_word = {}\n",
        "for key, value in t.word_index.items():\n",
        "  index_to_word[value] = key\n",
        "\n",
        "print('빈도수 상위 582번 단어 : {}'.format(index_to_word[582]))"
      ],
      "execution_count": 19,
      "outputs": [
        {
          "output_type": "stream",
          "text": [
            "빈도수 상위 582번 단어 : offer\n"
          ],
          "name": "stdout"
        }
      ]
    },
    {
      "cell_type": "code",
      "metadata": {
        "id": "AN20z6UF6RP8",
        "colab_type": "code",
        "colab": {
          "base_uri": "https://localhost:8080/",
          "height": 34
        },
        "outputId": "0cb0c32c-1821-488c-dbc0-52c74b7fe92d"
      },
      "source": [
        "max_len=max(len(l) for l in sequences)\n",
        "print('샘플 최대 길이 : {}'.format(max_len))"
      ],
      "execution_count": 20,
      "outputs": [
        {
          "output_type": "stream",
          "text": [
            "샘플 최대 길이 : 24\n"
          ],
          "name": "stdout"
        }
      ]
    },
    {
      "cell_type": "code",
      "metadata": {
        "id": "Bda3sXYv6is0",
        "colab_type": "code",
        "colab": {
          "base_uri": "https://localhost:8080/",
          "height": 119
        },
        "outputId": "dc4c820b-2129-4d7d-895a-feac4c88335b"
      },
      "source": [
        "sequences = pad_sequences(sequences, maxlen=max_len, padding='pre')\n",
        "print(sequences[:3])"
      ],
      "execution_count": 21,
      "outputs": [
        {
          "output_type": "stream",
          "text": [
            "[[   0    0    0    0    0    0    0    0    0    0    0    0    0    0\n",
            "     0    0    0    0    0    0    0    0   99  269]\n",
            " [   0    0    0    0    0    0    0    0    0    0    0    0    0    0\n",
            "     0    0    0    0    0    0    0   99  269  371]\n",
            " [   0    0    0    0    0    0    0    0    0    0    0    0    0    0\n",
            "     0    0    0    0    0    0   99  269  371 1115]]\n"
          ],
          "name": "stdout"
        }
      ]
    },
    {
      "cell_type": "code",
      "metadata": {
        "id": "8U8MEGbJ-f0Z",
        "colab_type": "code",
        "colab": {}
      },
      "source": [
        "sequences = np.array(sequences)\n",
        "X = sequences[:, :-1]\n",
        "y = sequences[:, -1]"
      ],
      "execution_count": 22,
      "outputs": []
    },
    {
      "cell_type": "code",
      "metadata": {
        "id": "xMkm1g6H-sT9",
        "colab_type": "code",
        "colab": {
          "base_uri": "https://localhost:8080/",
          "height": 119
        },
        "outputId": "9cca7413-cf85-4bbc-9e95-509794028312"
      },
      "source": [
        "print(X[:3])"
      ],
      "execution_count": 23,
      "outputs": [
        {
          "output_type": "stream",
          "text": [
            "[[  0   0   0   0   0   0   0   0   0   0   0   0   0   0   0   0   0   0\n",
            "    0   0   0   0  99]\n",
            " [  0   0   0   0   0   0   0   0   0   0   0   0   0   0   0   0   0   0\n",
            "    0   0   0  99 269]\n",
            " [  0   0   0   0   0   0   0   0   0   0   0   0   0   0   0   0   0   0\n",
            "    0   0  99 269 371]]\n"
          ],
          "name": "stdout"
        }
      ]
    },
    {
      "cell_type": "code",
      "metadata": {
        "id": "tl56QSzB-uvO",
        "colab_type": "code",
        "colab": {
          "base_uri": "https://localhost:8080/",
          "height": 34
        },
        "outputId": "da1efa7b-eac7-4948-8d35-14c3b18e3d72"
      },
      "source": [
        "print(y[:3])"
      ],
      "execution_count": 24,
      "outputs": [
        {
          "output_type": "stream",
          "text": [
            "[ 269  371 1115]\n"
          ],
          "name": "stdout"
        }
      ]
    },
    {
      "cell_type": "code",
      "metadata": {
        "id": "QddA38EO-zOQ",
        "colab_type": "code",
        "colab": {}
      },
      "source": [
        "y = to_categorical(y, num_classes=vocab_size)"
      ],
      "execution_count": 25,
      "outputs": []
    },
    {
      "cell_type": "code",
      "metadata": {
        "id": "uJ1GB8vZIdF7",
        "colab_type": "code",
        "colab": {
          "base_uri": "https://localhost:8080/",
          "height": 34
        },
        "outputId": "154e7582-1efa-4f7b-bd19-23fc70504ee5"
      },
      "source": [
        "y.shape"
      ],
      "execution_count": 29,
      "outputs": [
        {
          "output_type": "execute_result",
          "data": {
            "text/plain": [
              "(7803, 3494)"
            ]
          },
          "metadata": {
            "tags": []
          },
          "execution_count": 29
        }
      ]
    },
    {
      "cell_type": "code",
      "metadata": {
        "id": "L1a_CegJ-5Lc",
        "colab_type": "code",
        "colab": {
          "base_uri": "https://localhost:8080/",
          "height": 1000
        },
        "outputId": "a05a0725-980e-4b8d-f0c9-5eb89bb7a596"
      },
      "source": [
        "from tensorflow.keras.models import Sequential\n",
        "from tensorflow.keras.layers import Embedding, Dense, LSTM\n",
        "model = Sequential()\n",
        "model.add(Embedding(vocab_size, 10, input_length=max_len-1))\n",
        "model.add(LSTM(128))\n",
        "model.add(Dense(vocab_size, activation='softmax'))\n",
        "model.compile(loss='categorical_crossentropy', optimizer='adam', metrics=['accuracy'])\n",
        "model.fit(X, y, epochs=200, verbose=2)"
      ],
      "execution_count": 30,
      "outputs": [
        {
          "output_type": "stream",
          "text": [
            "Epoch 1/200\n",
            "244/244 - 2s - loss: 7.6371 - accuracy: 0.0299\n",
            "Epoch 2/200\n",
            "244/244 - 1s - loss: 7.1160 - accuracy: 0.0287\n",
            "Epoch 3/200\n",
            "244/244 - 1s - loss: 6.9789 - accuracy: 0.0343\n",
            "Epoch 4/200\n",
            "244/244 - 1s - loss: 6.8527 - accuracy: 0.0417\n",
            "Epoch 5/200\n",
            "244/244 - 2s - loss: 6.7004 - accuracy: 0.0437\n",
            "Epoch 6/200\n",
            "244/244 - 1s - loss: 6.5335 - accuracy: 0.0477\n",
            "Epoch 7/200\n",
            "244/244 - 1s - loss: 6.3476 - accuracy: 0.0510\n",
            "Epoch 8/200\n",
            "244/244 - 1s - loss: 6.1547 - accuracy: 0.0590\n",
            "Epoch 9/200\n",
            "244/244 - 1s - loss: 5.9698 - accuracy: 0.0610\n",
            "Epoch 10/200\n",
            "244/244 - 1s - loss: 5.7948 - accuracy: 0.0656\n",
            "Epoch 11/200\n",
            "244/244 - 1s - loss: 5.6279 - accuracy: 0.0687\n",
            "Epoch 12/200\n",
            "244/244 - 1s - loss: 5.4715 - accuracy: 0.0729\n",
            "Epoch 13/200\n",
            "244/244 - 1s - loss: 5.3221 - accuracy: 0.0801\n",
            "Epoch 14/200\n",
            "244/244 - 1s - loss: 5.1776 - accuracy: 0.0832\n",
            "Epoch 15/200\n",
            "244/244 - 1s - loss: 5.0393 - accuracy: 0.0952\n",
            "Epoch 16/200\n",
            "244/244 - 1s - loss: 4.9062 - accuracy: 0.1047\n",
            "Epoch 17/200\n",
            "244/244 - 1s - loss: 4.7750 - accuracy: 0.1115\n",
            "Epoch 18/200\n",
            "244/244 - 1s - loss: 4.6498 - accuracy: 0.1266\n",
            "Epoch 19/200\n",
            "244/244 - 1s - loss: 4.5270 - accuracy: 0.1373\n",
            "Epoch 20/200\n",
            "244/244 - 1s - loss: 4.4074 - accuracy: 0.1497\n",
            "Epoch 21/200\n",
            "244/244 - 2s - loss: 4.2912 - accuracy: 0.1658\n",
            "Epoch 22/200\n",
            "244/244 - 2s - loss: 4.1802 - accuracy: 0.1828\n",
            "Epoch 23/200\n",
            "244/244 - 1s - loss: 4.0718 - accuracy: 0.2018\n",
            "Epoch 24/200\n",
            "244/244 - 1s - loss: 3.9659 - accuracy: 0.2148\n",
            "Epoch 25/200\n",
            "244/244 - 1s - loss: 3.8623 - accuracy: 0.2354\n",
            "Epoch 26/200\n",
            "244/244 - 2s - loss: 3.7618 - accuracy: 0.2521\n",
            "Epoch 27/200\n",
            "244/244 - 2s - loss: 3.6624 - accuracy: 0.2713\n",
            "Epoch 28/200\n",
            "244/244 - 1s - loss: 3.5668 - accuracy: 0.2873\n",
            "Epoch 29/200\n",
            "244/244 - 1s - loss: 3.4750 - accuracy: 0.3065\n",
            "Epoch 30/200\n",
            "244/244 - 1s - loss: 3.3869 - accuracy: 0.3187\n",
            "Epoch 31/200\n",
            "244/244 - 1s - loss: 3.3019 - accuracy: 0.3336\n",
            "Epoch 32/200\n",
            "244/244 - 1s - loss: 3.2187 - accuracy: 0.3505\n",
            "Epoch 33/200\n",
            "244/244 - 1s - loss: 3.1376 - accuracy: 0.3664\n",
            "Epoch 34/200\n",
            "244/244 - 2s - loss: 3.0597 - accuracy: 0.3805\n",
            "Epoch 35/200\n",
            "244/244 - 1s - loss: 2.9844 - accuracy: 0.3918\n",
            "Epoch 36/200\n",
            "244/244 - 2s - loss: 2.9119 - accuracy: 0.4052\n",
            "Epoch 37/200\n",
            "244/244 - 1s - loss: 2.8447 - accuracy: 0.4173\n",
            "Epoch 38/200\n",
            "244/244 - 2s - loss: 2.7751 - accuracy: 0.4256\n",
            "Epoch 39/200\n",
            "244/244 - 1s - loss: 2.7112 - accuracy: 0.4396\n",
            "Epoch 40/200\n",
            "244/244 - 2s - loss: 2.6472 - accuracy: 0.4565\n",
            "Epoch 41/200\n",
            "244/244 - 2s - loss: 2.5859 - accuracy: 0.4655\n",
            "Epoch 42/200\n",
            "244/244 - 1s - loss: 2.5265 - accuracy: 0.4757\n",
            "Epoch 43/200\n",
            "244/244 - 1s - loss: 2.4663 - accuracy: 0.4890\n",
            "Epoch 44/200\n",
            "244/244 - 1s - loss: 2.4162 - accuracy: 0.4974\n",
            "Epoch 45/200\n",
            "244/244 - 1s - loss: 2.3594 - accuracy: 0.5121\n",
            "Epoch 46/200\n",
            "244/244 - 1s - loss: 2.3073 - accuracy: 0.5186\n",
            "Epoch 47/200\n",
            "244/244 - 1s - loss: 2.2555 - accuracy: 0.5368\n",
            "Epoch 48/200\n",
            "244/244 - 1s - loss: 2.2049 - accuracy: 0.5440\n",
            "Epoch 49/200\n",
            "244/244 - 1s - loss: 2.1575 - accuracy: 0.5556\n",
            "Epoch 50/200\n",
            "244/244 - 1s - loss: 2.1077 - accuracy: 0.5641\n",
            "Epoch 51/200\n",
            "244/244 - 2s - loss: 2.0627 - accuracy: 0.5734\n",
            "Epoch 52/200\n",
            "244/244 - 1s - loss: 2.0150 - accuracy: 0.5854\n",
            "Epoch 53/200\n",
            "244/244 - 1s - loss: 1.9727 - accuracy: 0.5957\n",
            "Epoch 54/200\n",
            "244/244 - 1s - loss: 1.9300 - accuracy: 0.6030\n",
            "Epoch 55/200\n",
            "244/244 - 1s - loss: 1.8837 - accuracy: 0.6173\n",
            "Epoch 56/200\n",
            "244/244 - 1s - loss: 1.8432 - accuracy: 0.6222\n",
            "Epoch 57/200\n",
            "244/244 - 1s - loss: 1.8033 - accuracy: 0.6332\n",
            "Epoch 58/200\n",
            "244/244 - 1s - loss: 1.7661 - accuracy: 0.6399\n",
            "Epoch 59/200\n",
            "244/244 - 1s - loss: 1.7230 - accuracy: 0.6522\n",
            "Epoch 60/200\n",
            "244/244 - 1s - loss: 1.6875 - accuracy: 0.6583\n",
            "Epoch 61/200\n",
            "244/244 - 1s - loss: 1.6503 - accuracy: 0.6654\n",
            "Epoch 62/200\n",
            "244/244 - 2s - loss: 1.6121 - accuracy: 0.6756\n",
            "Epoch 63/200\n",
            "244/244 - 2s - loss: 1.5762 - accuracy: 0.6823\n",
            "Epoch 64/200\n",
            "244/244 - 2s - loss: 1.5425 - accuracy: 0.6885\n",
            "Epoch 65/200\n",
            "244/244 - 1s - loss: 1.5122 - accuracy: 0.6942\n",
            "Epoch 66/200\n",
            "244/244 - 1s - loss: 1.4761 - accuracy: 0.7077\n",
            "Epoch 67/200\n",
            "244/244 - 1s - loss: 1.4393 - accuracy: 0.7120\n",
            "Epoch 68/200\n",
            "244/244 - 2s - loss: 1.4084 - accuracy: 0.7165\n",
            "Epoch 69/200\n",
            "244/244 - 1s - loss: 1.3793 - accuracy: 0.7261\n",
            "Epoch 70/200\n",
            "244/244 - 2s - loss: 1.3468 - accuracy: 0.7342\n",
            "Epoch 71/200\n",
            "244/244 - 2s - loss: 1.3161 - accuracy: 0.7395\n",
            "Epoch 72/200\n",
            "244/244 - 2s - loss: 1.2875 - accuracy: 0.7451\n",
            "Epoch 73/200\n",
            "244/244 - 2s - loss: 1.2592 - accuracy: 0.7516\n",
            "Epoch 74/200\n",
            "244/244 - 2s - loss: 1.2304 - accuracy: 0.7565\n",
            "Epoch 75/200\n",
            "244/244 - 1s - loss: 1.2028 - accuracy: 0.7632\n",
            "Epoch 76/200\n",
            "244/244 - 2s - loss: 1.1761 - accuracy: 0.7703\n",
            "Epoch 77/200\n",
            "244/244 - 1s - loss: 1.1528 - accuracy: 0.7746\n",
            "Epoch 78/200\n",
            "244/244 - 1s - loss: 1.1233 - accuracy: 0.7814\n",
            "Epoch 79/200\n",
            "244/244 - 1s - loss: 1.0976 - accuracy: 0.7862\n",
            "Epoch 80/200\n",
            "244/244 - 2s - loss: 1.0716 - accuracy: 0.7912\n",
            "Epoch 81/200\n",
            "244/244 - 1s - loss: 1.0480 - accuracy: 0.7969\n",
            "Epoch 82/200\n",
            "244/244 - 1s - loss: 1.0254 - accuracy: 0.7985\n",
            "Epoch 83/200\n",
            "244/244 - 2s - loss: 0.9999 - accuracy: 0.8056\n",
            "Epoch 84/200\n",
            "244/244 - 2s - loss: 0.9774 - accuracy: 0.8085\n",
            "Epoch 85/200\n",
            "244/244 - 2s - loss: 0.9562 - accuracy: 0.8117\n",
            "Epoch 86/200\n",
            "244/244 - 1s - loss: 0.9343 - accuracy: 0.8197\n",
            "Epoch 87/200\n",
            "244/244 - 1s - loss: 0.9127 - accuracy: 0.8237\n",
            "Epoch 88/200\n",
            "244/244 - 1s - loss: 0.9007 - accuracy: 0.8220\n",
            "Epoch 89/200\n",
            "244/244 - 1s - loss: 0.8745 - accuracy: 0.8308\n",
            "Epoch 90/200\n",
            "244/244 - 1s - loss: 0.8534 - accuracy: 0.8366\n",
            "Epoch 91/200\n",
            "244/244 - 1s - loss: 0.8328 - accuracy: 0.8407\n",
            "Epoch 92/200\n",
            "244/244 - 1s - loss: 0.8136 - accuracy: 0.8420\n",
            "Epoch 93/200\n",
            "244/244 - 1s - loss: 0.7969 - accuracy: 0.8456\n",
            "Epoch 94/200\n",
            "244/244 - 2s - loss: 0.7784 - accuracy: 0.8501\n",
            "Epoch 95/200\n",
            "244/244 - 1s - loss: 0.7611 - accuracy: 0.8515\n",
            "Epoch 96/200\n",
            "244/244 - 1s - loss: 0.7455 - accuracy: 0.8534\n",
            "Epoch 97/200\n",
            "244/244 - 1s - loss: 0.7286 - accuracy: 0.8593\n",
            "Epoch 98/200\n",
            "244/244 - 1s - loss: 0.7113 - accuracy: 0.8620\n",
            "Epoch 99/200\n",
            "244/244 - 2s - loss: 0.6963 - accuracy: 0.8636\n",
            "Epoch 100/200\n",
            "244/244 - 1s - loss: 0.6800 - accuracy: 0.8667\n",
            "Epoch 101/200\n",
            "244/244 - 2s - loss: 0.6707 - accuracy: 0.8672\n",
            "Epoch 102/200\n",
            "244/244 - 1s - loss: 0.6601 - accuracy: 0.8708\n",
            "Epoch 103/200\n",
            "244/244 - 1s - loss: 0.6415 - accuracy: 0.8721\n",
            "Epoch 104/200\n",
            "244/244 - 2s - loss: 0.6268 - accuracy: 0.8788\n",
            "Epoch 105/200\n",
            "244/244 - 1s - loss: 0.6116 - accuracy: 0.8791\n",
            "Epoch 106/200\n",
            "244/244 - 1s - loss: 0.5990 - accuracy: 0.8791\n",
            "Epoch 107/200\n",
            "244/244 - 1s - loss: 0.5862 - accuracy: 0.8843\n",
            "Epoch 108/200\n",
            "244/244 - 1s - loss: 0.5751 - accuracy: 0.8871\n",
            "Epoch 109/200\n",
            "244/244 - 2s - loss: 0.5637 - accuracy: 0.8874\n",
            "Epoch 110/200\n",
            "244/244 - 1s - loss: 0.5536 - accuracy: 0.8880\n",
            "Epoch 111/200\n",
            "244/244 - 1s - loss: 0.5416 - accuracy: 0.8899\n",
            "Epoch 112/200\n",
            "244/244 - 2s - loss: 0.5302 - accuracy: 0.8916\n",
            "Epoch 113/200\n",
            "244/244 - 1s - loss: 0.5244 - accuracy: 0.8950\n",
            "Epoch 114/200\n",
            "244/244 - 1s - loss: 0.5129 - accuracy: 0.8961\n",
            "Epoch 115/200\n",
            "244/244 - 1s - loss: 0.4997 - accuracy: 0.8976\n",
            "Epoch 116/200\n",
            "244/244 - 2s - loss: 0.4902 - accuracy: 0.8980\n",
            "Epoch 117/200\n",
            "244/244 - 1s - loss: 0.4814 - accuracy: 0.8998\n",
            "Epoch 118/200\n",
            "244/244 - 1s - loss: 0.4755 - accuracy: 0.9004\n",
            "Epoch 119/200\n",
            "244/244 - 1s - loss: 0.4639 - accuracy: 0.8999\n",
            "Epoch 120/200\n",
            "244/244 - 1s - loss: 0.4554 - accuracy: 0.9017\n",
            "Epoch 121/200\n",
            "244/244 - 1s - loss: 0.4476 - accuracy: 0.9045\n",
            "Epoch 122/200\n",
            "244/244 - 2s - loss: 0.4384 - accuracy: 0.9082\n",
            "Epoch 123/200\n",
            "244/244 - 1s - loss: 0.4310 - accuracy: 0.9045\n",
            "Epoch 124/200\n",
            "244/244 - 1s - loss: 0.4257 - accuracy: 0.9070\n",
            "Epoch 125/200\n",
            "244/244 - 1s - loss: 0.4200 - accuracy: 0.9085\n",
            "Epoch 126/200\n",
            "244/244 - 1s - loss: 0.4134 - accuracy: 0.9067\n",
            "Epoch 127/200\n",
            "244/244 - 2s - loss: 0.4072 - accuracy: 0.9079\n",
            "Epoch 128/200\n",
            "244/244 - 2s - loss: 0.4019 - accuracy: 0.9075\n",
            "Epoch 129/200\n",
            "244/244 - 1s - loss: 0.4001 - accuracy: 0.9107\n",
            "Epoch 130/200\n",
            "244/244 - 1s - loss: 0.4058 - accuracy: 0.9079\n",
            "Epoch 131/200\n",
            "244/244 - 1s - loss: 0.3851 - accuracy: 0.9121\n",
            "Epoch 132/200\n",
            "244/244 - 2s - loss: 0.3754 - accuracy: 0.9116\n",
            "Epoch 133/200\n",
            "244/244 - 1s - loss: 0.3719 - accuracy: 0.9114\n",
            "Epoch 134/200\n",
            "244/244 - 1s - loss: 0.3763 - accuracy: 0.9113\n",
            "Epoch 135/200\n",
            "244/244 - 1s - loss: 0.3653 - accuracy: 0.9114\n",
            "Epoch 136/200\n",
            "244/244 - 1s - loss: 0.3560 - accuracy: 0.9132\n",
            "Epoch 137/200\n",
            "244/244 - 1s - loss: 0.3523 - accuracy: 0.9132\n",
            "Epoch 138/200\n",
            "244/244 - 2s - loss: 0.3489 - accuracy: 0.9139\n",
            "Epoch 139/200\n",
            "244/244 - 2s - loss: 0.3493 - accuracy: 0.9141\n",
            "Epoch 140/200\n",
            "244/244 - 1s - loss: 0.3452 - accuracy: 0.9126\n",
            "Epoch 141/200\n",
            "244/244 - 1s - loss: 0.3382 - accuracy: 0.9130\n",
            "Epoch 142/200\n",
            "244/244 - 1s - loss: 0.3342 - accuracy: 0.9150\n",
            "Epoch 143/200\n",
            "244/244 - 1s - loss: 0.3298 - accuracy: 0.9154\n",
            "Epoch 144/200\n",
            "244/244 - 2s - loss: 0.3299 - accuracy: 0.9153\n",
            "Epoch 145/200\n",
            "244/244 - 1s - loss: 0.3280 - accuracy: 0.9153\n",
            "Epoch 146/200\n",
            "244/244 - 1s - loss: 0.3233 - accuracy: 0.9154\n",
            "Epoch 147/200\n",
            "244/244 - 1s - loss: 0.3195 - accuracy: 0.9170\n",
            "Epoch 148/200\n",
            "244/244 - 1s - loss: 0.3170 - accuracy: 0.9159\n",
            "Epoch 149/200\n",
            "244/244 - 1s - loss: 0.3151 - accuracy: 0.9166\n",
            "Epoch 150/200\n",
            "244/244 - 1s - loss: 0.3116 - accuracy: 0.9157\n",
            "Epoch 151/200\n",
            "244/244 - 1s - loss: 0.3091 - accuracy: 0.9168\n",
            "Epoch 152/200\n",
            "244/244 - 1s - loss: 0.3064 - accuracy: 0.9168\n",
            "Epoch 153/200\n",
            "244/244 - 1s - loss: 0.3063 - accuracy: 0.9163\n",
            "Epoch 154/200\n",
            "244/244 - 1s - loss: 0.3176 - accuracy: 0.9152\n",
            "Epoch 155/200\n",
            "244/244 - 1s - loss: 0.3081 - accuracy: 0.9177\n",
            "Epoch 156/200\n",
            "244/244 - 2s - loss: 0.3095 - accuracy: 0.9146\n",
            "Epoch 157/200\n",
            "244/244 - 1s - loss: 0.3050 - accuracy: 0.9154\n",
            "Epoch 158/200\n",
            "244/244 - 1s - loss: 0.2973 - accuracy: 0.9171\n",
            "Epoch 159/200\n",
            "244/244 - 2s - loss: 0.2988 - accuracy: 0.9185\n",
            "Epoch 160/200\n",
            "244/244 - 1s - loss: 0.2968 - accuracy: 0.9153\n",
            "Epoch 161/200\n",
            "244/244 - 1s - loss: 0.2913 - accuracy: 0.9153\n",
            "Epoch 162/200\n",
            "244/244 - 1s - loss: 0.2890 - accuracy: 0.9181\n",
            "Epoch 163/200\n",
            "244/244 - 1s - loss: 0.2884 - accuracy: 0.9164\n",
            "Epoch 164/200\n",
            "244/244 - 1s - loss: 0.2900 - accuracy: 0.9163\n",
            "Epoch 165/200\n",
            "244/244 - 2s - loss: 0.3008 - accuracy: 0.9155\n",
            "Epoch 166/200\n",
            "244/244 - 1s - loss: 0.2888 - accuracy: 0.9159\n",
            "Epoch 167/200\n",
            "244/244 - 1s - loss: 0.2828 - accuracy: 0.9161\n",
            "Epoch 168/200\n",
            "244/244 - 1s - loss: 0.2833 - accuracy: 0.9144\n",
            "Epoch 169/200\n",
            "244/244 - 1s - loss: 0.2816 - accuracy: 0.9182\n",
            "Epoch 170/200\n",
            "244/244 - 1s - loss: 0.2807 - accuracy: 0.9167\n",
            "Epoch 171/200\n",
            "244/244 - 2s - loss: 0.2787 - accuracy: 0.9166\n",
            "Epoch 172/200\n",
            "244/244 - 1s - loss: 0.2794 - accuracy: 0.9167\n",
            "Epoch 173/200\n",
            "244/244 - 2s - loss: 0.2780 - accuracy: 0.9175\n",
            "Epoch 174/200\n",
            "244/244 - 2s - loss: 0.2775 - accuracy: 0.9161\n",
            "Epoch 175/200\n",
            "244/244 - 1s - loss: 0.2756 - accuracy: 0.9154\n",
            "Epoch 176/200\n",
            "244/244 - 1s - loss: 0.2756 - accuracy: 0.9163\n",
            "Epoch 177/200\n",
            "244/244 - 1s - loss: 0.2753 - accuracy: 0.9153\n",
            "Epoch 178/200\n",
            "244/244 - 1s - loss: 0.2733 - accuracy: 0.9176\n",
            "Epoch 179/200\n",
            "244/244 - 1s - loss: 0.2740 - accuracy: 0.9150\n",
            "Epoch 180/200\n",
            "244/244 - 1s - loss: 0.2769 - accuracy: 0.9158\n",
            "Epoch 181/200\n",
            "244/244 - 2s - loss: 0.2729 - accuracy: 0.9161\n",
            "Epoch 182/200\n",
            "244/244 - 1s - loss: 0.2790 - accuracy: 0.9149\n",
            "Epoch 183/200\n",
            "244/244 - 1s - loss: 0.2791 - accuracy: 0.9150\n",
            "Epoch 184/200\n",
            "244/244 - 1s - loss: 0.2781 - accuracy: 0.9157\n",
            "Epoch 185/200\n",
            "244/244 - 1s - loss: 0.2735 - accuracy: 0.9164\n",
            "Epoch 186/200\n",
            "244/244 - 1s - loss: 0.2706 - accuracy: 0.9157\n",
            "Epoch 187/200\n",
            "244/244 - 1s - loss: 0.2679 - accuracy: 0.9179\n",
            "Epoch 188/200\n",
            "244/244 - 1s - loss: 0.2675 - accuracy: 0.9159\n",
            "Epoch 189/200\n",
            "244/244 - 1s - loss: 0.2669 - accuracy: 0.9173\n",
            "Epoch 190/200\n",
            "244/244 - 1s - loss: 0.2667 - accuracy: 0.9157\n",
            "Epoch 191/200\n",
            "244/244 - 1s - loss: 0.2648 - accuracy: 0.9175\n",
            "Epoch 192/200\n",
            "244/244 - 1s - loss: 0.2665 - accuracy: 0.9155\n",
            "Epoch 193/200\n",
            "244/244 - 2s - loss: 0.2647 - accuracy: 0.9180\n",
            "Epoch 194/200\n",
            "244/244 - 2s - loss: 0.2651 - accuracy: 0.9171\n",
            "Epoch 195/200\n",
            "244/244 - 2s - loss: 0.2639 - accuracy: 0.9172\n",
            "Epoch 196/200\n",
            "244/244 - 2s - loss: 0.2841 - accuracy: 0.9130\n",
            "Epoch 197/200\n",
            "244/244 - 2s - loss: 0.2939 - accuracy: 0.9112\n",
            "Epoch 198/200\n",
            "244/244 - 2s - loss: 0.2735 - accuracy: 0.9136\n",
            "Epoch 199/200\n",
            "244/244 - 2s - loss: 0.2643 - accuracy: 0.9162\n",
            "Epoch 200/200\n",
            "244/244 - 1s - loss: 0.2623 - accuracy: 0.9164\n"
          ],
          "name": "stdout"
        },
        {
          "output_type": "execute_result",
          "data": {
            "text/plain": [
              "<tensorflow.python.keras.callbacks.History at 0x7fd0a1056dd8>"
            ]
          },
          "metadata": {
            "tags": []
          },
          "execution_count": 30
        }
      ]
    },
    {
      "cell_type": "code",
      "metadata": {
        "id": "6YQNsmkGGuRT",
        "colab_type": "code",
        "colab": {}
      },
      "source": [
        "def sentence_generation(model, t, current_word, n): # 모델, 토크나이저, 현재 단어, 반복할 횟수\n",
        "    init_word = current_word # 처음 들어온 단어도 마지막에 같이 출력하기위해 저장\n",
        "    sentence = ''\n",
        "    for _ in range(n): # n번 반복\n",
        "        encoded = t.texts_to_sequences([current_word])[0] # 현재 단어에 대한 정수 인코딩\n",
        "        encoded = pad_sequences([encoded], maxlen=23, padding='pre') # 데이터에 대한 패딩\n",
        "        result = model.predict_classes(encoded, verbose=0)\n",
        "    # 입력한 X(현재 단어)에 대해서 y를 예측하고 y(예측한 단어)를 result에 저장.\n",
        "        for word, index in t.word_index.items(): \n",
        "            if index == result: # 만약 예측한 단어와 인덱스와 동일한 단어가 있다면\n",
        "                break # 해당 단어가 예측 단어이므로 break\n",
        "        current_word = current_word + ' '  + word # 현재 단어 + ' ' + 예측 단어를 현재 단어로 변경\n",
        "        sentence = sentence + ' ' + word # 예측 단어를 문장에 저장\n",
        "    # for문이므로 이 행동을 다시 반복\n",
        "    sentence = init_word + sentence\n",
        "    return sentence"
      ],
      "execution_count": 34,
      "outputs": []
    },
    {
      "cell_type": "code",
      "metadata": {
        "id": "JIjboZjFKDzU",
        "colab_type": "code",
        "colab": {
          "base_uri": "https://localhost:8080/",
          "height": 34
        },
        "outputId": "ec65cad0-8192-4b7b-d095-d0a85100af04"
      },
      "source": [
        "print(sentence_generation(model, t, 'i', 10))\n",
        "# 임의의 단어 'i'에 대해서 10개의 단어를 추가 생성"
      ],
      "execution_count": 39,
      "outputs": [
        {
          "output_type": "stream",
          "text": [
            "i want to be rich and im not sorry been hes\n"
          ],
          "name": "stdout"
        }
      ]
    },
    {
      "cell_type": "code",
      "metadata": {
        "id": "7HDzvmTlKJob",
        "colab_type": "code",
        "colab": {
          "base_uri": "https://localhost:8080/",
          "height": 34
        },
        "outputId": "16154634-9bc1-4459-b751-9df508560703"
      },
      "source": [
        "print(sentence_generation(model, t, 'former nfl', 10))"
      ],
      "execution_count": 44,
      "outputs": [
        {
          "output_type": "stream",
          "text": [
            "former nfl cheerleaders settlement offer 1 and a meeting with goodell and\n"
          ],
          "name": "stdout"
        }
      ]
    },
    {
      "cell_type": "code",
      "metadata": {
        "id": "q6TgqDnLK0Jw",
        "colab_type": "code",
        "colab": {}
      },
      "source": [
        ""
      ],
      "execution_count": null,
      "outputs": []
    }
  ]
}