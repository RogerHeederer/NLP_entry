{
  "nbformat": 4,
  "nbformat_minor": 0,
  "metadata": {
    "colab": {
      "name": "VectorMatrix.ipynb",
      "provenance": [],
      "authorship_tag": "ABX9TyPpUQgpxkPoHFRrD/8dR0Qp",
      "include_colab_link": true
    },
    "kernelspec": {
      "name": "python3",
      "display_name": "Python 3"
    }
  },
  "cells": [
    {
      "cell_type": "markdown",
      "metadata": {
        "id": "view-in-github",
        "colab_type": "text"
      },
      "source": [
        "<a href=\"https://colab.research.google.com/github/RogerHeederer/NLP_entry/blob/master/VectorMatrix.ipynb\" target=\"_parent\"><img src=\"https://colab.research.google.com/assets/colab-badge.svg\" alt=\"Open In Colab\"/></a>"
      ]
    },
    {
      "cell_type": "markdown",
      "metadata": {
        "id": "SiR8PYwCy6MO",
        "colab_type": "text"
      },
      "source": [
        "Reference Source : wikidocs.net 유영준님 자료\n",
        "\n",
        "스스로 학습하면서 필요한 부분에는 추가적 설명, 소스 코드 삽입 및 수정 등이 있습니다. 영리적 목적이 아닌, 자기 계발 목적으로 정리한 자료입니다.\n"
      ]
    },
    {
      "cell_type": "code",
      "metadata": {
        "id": "nALDgwRFy4Ce",
        "colab_type": "code",
        "colab": {
          "base_uri": "https://localhost:8080/",
          "height": 35
        },
        "outputId": "f8d8bf46-bdf2-4022-90b9-eaaef3267be1"
      },
      "source": [
        "import numpy as np\n",
        "#0차원 텐서 = 스칼라\n",
        "d = np.array(5)\n",
        "d.ndim, d.shape #0차원, 크기없음"
      ],
      "execution_count": 2,
      "outputs": [
        {
          "output_type": "execute_result",
          "data": {
            "text/plain": [
              "(0, ())"
            ]
          },
          "metadata": {
            "tags": []
          },
          "execution_count": 2
        }
      ]
    },
    {
      "cell_type": "code",
      "metadata": {
        "id": "AIc4Pa68zDu8",
        "colab_type": "code",
        "colab": {
          "base_uri": "https://localhost:8080/",
          "height": 53
        },
        "outputId": "021247c6-7181-4d18-87b2-f006492daccb"
      },
      "source": [
        "#숫자를 특정 순서대로 배열한 것을 벡터라 함, 벡터를 1차원 텐서라고도 함\n",
        "# 벡터의 차원과 텐서의 차원은 다른 개념\n",
        "\n",
        "d = np.array([1,2,3,4])\n",
        "print(d.ndim)\n",
        "print(d.shape)\n",
        "# 4차원 벡터, 1차원 텐서"
      ],
      "execution_count": 3,
      "outputs": [
        {
          "output_type": "stream",
          "text": [
            "1\n",
            "(4,)\n"
          ],
          "name": "stdout"
        }
      ]
    },
    {
      "cell_type": "markdown",
      "metadata": {
        "id": "54XtkfJ-z2LS",
        "colab_type": "text"
      },
      "source": [
        "벡터에서의 차원은 하나의 축에 차원들이 존재.\n",
        "\n",
        "텐서에서의 차원은 축의 개수"
      ]
    },
    {
      "cell_type": "code",
      "metadata": {
        "id": "9-XA0jg_zvLn",
        "colab_type": "code",
        "colab": {
          "base_uri": "https://localhost:8080/",
          "height": 107
        },
        "outputId": "8a232181-b5a7-47ef-c467-eda32b027971"
      },
      "source": [
        "# 행과 열이 존재하는 벡터의 배열 = 행렬 = 2차원 텐서\n",
        "\n",
        "d = np.array([[1,2,3,4], [5,6,7,8], [9,10,11,12]])\n",
        "print(d.ndim)\n",
        "print(d.shape)\n",
        "print(d)"
      ],
      "execution_count": 6,
      "outputs": [
        {
          "output_type": "stream",
          "text": [
            "2\n",
            "(3, 4)\n",
            "[[ 1  2  3  4]\n",
            " [ 5  6  7  8]\n",
            " [ 9 10 11 12]]\n"
          ],
          "name": "stdout"
        }
      ]
    },
    {
      "cell_type": "code",
      "metadata": {
        "id": "V8pb5jQ5zlkd",
        "colab_type": "code",
        "colab": {
          "base_uri": "https://localhost:8080/",
          "height": 53
        },
        "outputId": "4c51a60a-e042-49d7-e76a-f9f168155e1c"
      },
      "source": [
        "# 3차원 텐서\n",
        "# 행렬(2차원텐서)를 단위로 한 번 더 배열해버리면 3차원 텐서가 됨\n",
        "# 보통 3차원 이상의 배열부터 텐서라고 부른다.(데이터 사이언스 분야에서)\n",
        "\n",
        "d = np.array( [ [ [1,2,3,4,5],[6,7,8,9,10],[10,11,12,13,14] ],\n",
        "                [ [15,16,17,18,19],[19,20,21,22,23],[23,24,25,26,27] ]\n",
        "               ])\n",
        "#2개의 큰 데이터가 있는데, 각각은 3개의 작은 데이터로 구성되고, 그 3개의 데이터는 더 작은 5개의 데이터로 구성\n",
        "print(d.ndim)\n",
        "print(d.shape)"
      ],
      "execution_count": 7,
      "outputs": [
        {
          "output_type": "stream",
          "text": [
            "3\n",
            "(2, 3, 5)\n"
          ],
          "name": "stdout"
        }
      ]
    },
    {
      "cell_type": "markdown",
      "metadata": {
        "id": "bxBCBx5s6nEq",
        "colab_type": "text"
      },
      "source": [
        "3D 텐서는 시퀀스 데이터를 표현할 때 자주 사용. 주로 문서, 아티클, 텍스트 등. \n",
        "\n",
        "3D 텐서는 (samples, timesteps, word_dim)\n",
        "\n",
        "배치 개념에서는 (batch_size, timesteps, word_dim)\n",
        "\n",
        "훈련데이터를 묶어서 한 꺼번에 입력으로 사용하는 것을 배치"
      ]
    },
    {
      "cell_type": "code",
      "metadata": {
        "id": "s5o90p8L1mRg",
        "colab_type": "code",
        "colab": {}
      },
      "source": [
        ""
      ],
      "execution_count": null,
      "outputs": []
    }
  ]
}