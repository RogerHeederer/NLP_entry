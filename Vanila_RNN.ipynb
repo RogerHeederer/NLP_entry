{
  "nbformat": 4,
  "nbformat_minor": 0,
  "metadata": {
    "colab": {
      "name": "Vanila RNN.ipynb",
      "provenance": [],
      "authorship_tag": "ABX9TyPn70nhpzcHvrNddzQkTLts",
      "include_colab_link": true
    },
    "kernelspec": {
      "name": "python3",
      "display_name": "Python 3"
    }
  },
  "cells": [
    {
      "cell_type": "markdown",
      "metadata": {
        "id": "view-in-github",
        "colab_type": "text"
      },
      "source": [
        "<a href=\"https://colab.research.google.com/github/RogerHeederer/NLP_entry/blob/master/Vanila_RNN.ipynb\" target=\"_parent\"><img src=\"https://colab.research.google.com/assets/colab-badge.svg\" alt=\"Open In Colab\"/></a>"
      ]
    },
    {
      "cell_type": "markdown",
      "metadata": {
        "id": "xjeKULocS_f3",
        "colab_type": "text"
      },
      "source": [
        "\n",
        "Reference Source : wikidocs.net 유영준님 자료\n",
        "\n",
        "스스로 학습하면서 필요한 부분에는 추가적 설명, 소스 코드 삽입 및 수정 등이 있습니다. 영리적 목적이 아닌, 자기 계발 목적으로 정리한 자료입니다."
      ]
    },
    {
      "cell_type": "code",
      "metadata": {
        "id": "JArfeEwFS4LC",
        "colab_type": "code",
        "colab": {}
      },
      "source": [
        "from keras.models import Sequential\n",
        "from keras.layers import SimpleRNN"
      ],
      "execution_count": 1,
      "outputs": []
    },
    {
      "cell_type": "code",
      "metadata": {
        "id": "d735sGP1fOGU",
        "colab_type": "code",
        "colab": {
          "base_uri": "https://localhost:8080/",
          "height": 187
        },
        "outputId": "84b36688-2ea2-4f17-c00b-37db9994ec07"
      },
      "source": [
        "model = Sequential()\n",
        "model.add(SimpleRNN(3, input_shape=(2,10)))\n",
        "# = SimpleRNN(3, input_length=2, input_dim=10)\n",
        "model.summary()"
      ],
      "execution_count": 3,
      "outputs": [
        {
          "output_type": "stream",
          "text": [
            "Model: \"sequential_1\"\n",
            "_________________________________________________________________\n",
            "Layer (type)                 Output Shape              Param #   \n",
            "=================================================================\n",
            "simple_rnn (SimpleRNN)       (None, 3)                 42        \n",
            "=================================================================\n",
            "Total params: 42\n",
            "Trainable params: 42\n",
            "Non-trainable params: 0\n",
            "_________________________________________________________________\n"
          ],
          "name": "stdout"
        }
      ]
    },
    {
      "cell_type": "code",
      "metadata": {
        "id": "D0nGZs6-fiGY",
        "colab_type": "code",
        "colab": {
          "base_uri": "https://localhost:8080/",
          "height": 187
        },
        "outputId": "7bd43f9e-933a-4df9-b5e0-57ac3bb326bf"
      },
      "source": [
        "model = Sequential()\n",
        "model.add(SimpleRNN(3, batch_input_shape=(8,2,10)))\n",
        "model.summary()"
      ],
      "execution_count": 4,
      "outputs": [
        {
          "output_type": "stream",
          "text": [
            "Model: \"sequential_2\"\n",
            "_________________________________________________________________\n",
            "Layer (type)                 Output Shape              Param #   \n",
            "=================================================================\n",
            "simple_rnn_1 (SimpleRNN)     (8, 3)                    42        \n",
            "=================================================================\n",
            "Total params: 42\n",
            "Trainable params: 42\n",
            "Non-trainable params: 0\n",
            "_________________________________________________________________\n"
          ],
          "name": "stdout"
        }
      ]
    },
    {
      "cell_type": "code",
      "metadata": {
        "id": "kfQpVodTf4hB",
        "colab_type": "code",
        "colab": {
          "base_uri": "https://localhost:8080/",
          "height": 187
        },
        "outputId": "83726cb6-cac7-4dde-842d-4a3d70e84932"
      },
      "source": [
        "model = Sequential()\n",
        "model.add(SimpleRNN(3, batch_input_shape=(8,2,10), return_sequences=True))\n",
        "model.summary()"
      ],
      "execution_count": 6,
      "outputs": [
        {
          "output_type": "stream",
          "text": [
            "Model: \"sequential_3\"\n",
            "_________________________________________________________________\n",
            "Layer (type)                 Output Shape              Param #   \n",
            "=================================================================\n",
            "simple_rnn_2 (SimpleRNN)     (8, 2, 3)                 42        \n",
            "=================================================================\n",
            "Total params: 42\n",
            "Trainable params: 42\n",
            "Non-trainable params: 0\n",
            "_________________________________________________________________\n"
          ],
          "name": "stdout"
        }
      ]
    },
    {
      "cell_type": "code",
      "metadata": {
        "id": "AExXuorQgQKZ",
        "colab_type": "code",
        "colab": {}
      },
      "source": [
        "import numpy as np\n",
        "\n",
        "timesteps = 10\n",
        "input_dim = 4\n",
        "hidden_size = 8\n",
        "\n",
        "inputs = np.random.random((timesteps, input_dim)) #입력에 해당되는 2D 텐서\n",
        "                                                  #실제 케라스에서는 3D 텐서를 입력으로 받는다\n",
        "\n",
        "hidden_state_t = np.zeros((hidden_size,)) #초기 은닉 상태는 0벡터로 초기화"
      ],
      "execution_count": 7,
      "outputs": []
    },
    {
      "cell_type": "code",
      "metadata": {
        "id": "6JSsY-c9iL2s",
        "colab_type": "code",
        "colab": {
          "base_uri": "https://localhost:8080/",
          "height": 34
        },
        "outputId": "00fdc293-0eda-4aab-e007-b305f79663b9"
      },
      "source": [
        "hidden_state_t"
      ],
      "execution_count": 8,
      "outputs": [
        {
          "output_type": "execute_result",
          "data": {
            "text/plain": [
              "array([0., 0., 0., 0., 0., 0., 0., 0.])"
            ]
          },
          "metadata": {
            "tags": []
          },
          "execution_count": 8
        }
      ]
    },
    {
      "cell_type": "code",
      "metadata": {
        "id": "NdMt-Vt3iNRh",
        "colab_type": "code",
        "colab": {
          "base_uri": "https://localhost:8080/",
          "height": 68
        },
        "outputId": "8e485385-8f35-491a-d957-a7e764e18cd8"
      },
      "source": [
        "Wx = np.random.random((hidden_size, input_dim))\n",
        "Wh = np.random.random((hidden_size, hidden_size))\n",
        "b = np.random.random(hidden_size)\n",
        "\n",
        "print(np.shape(Wx))\n",
        "print(np.shape(Wh))\n",
        "print(np.shape(b))"
      ],
      "execution_count": 10,
      "outputs": [
        {
          "output_type": "stream",
          "text": [
            "(8, 4)\n",
            "(8, 8)\n",
            "(8,)\n"
          ],
          "name": "stdout"
        }
      ]
    },
    {
      "cell_type": "code",
      "metadata": {
        "id": "VyVNtH0LicEa",
        "colab_type": "code",
        "colab": {
          "base_uri": "https://localhost:8080/",
          "height": 527
        },
        "outputId": "8204c0dc-714a-453c-a595-610619f21cd6"
      },
      "source": [
        "total_hidden_states = []\n",
        "\n",
        "for input_t in inputs:\n",
        "  output_t = np.tanh(np.dot(Wx,input_t) + np.dot(Wh,hidden_state_t) + b)\n",
        "  total_hidden_states.append(list(output_t)) #각 시점의 은닉 상태 값을 계속 추적\n",
        "  print(np.shape(total_hidden_states)) #각 시점 t별 메모리 셀의 출력 크기는 (timestep, output_dim)\n",
        "  hidden_state_t = output_t\n",
        "\n",
        "total_hidden_states = np.stack(total_hidden_states, axis = 0)\n",
        "print(total_hidden_states)"
      ],
      "execution_count": 11,
      "outputs": [
        {
          "output_type": "stream",
          "text": [
            "(1, 8)\n",
            "(2, 8)\n",
            "(3, 8)\n",
            "(4, 8)\n",
            "(5, 8)\n",
            "(6, 8)\n",
            "(7, 8)\n",
            "(8, 8)\n",
            "(9, 8)\n",
            "(10, 8)\n",
            "[[0.9055483  0.83182879 0.92297034 0.71697602 0.92309692 0.91983435\n",
            "  0.97964074 0.88615182]\n",
            " [0.99989328 0.99934498 0.99981341 0.99685922 0.99726271 0.99744186\n",
            "  0.99984128 0.99973212]\n",
            " [0.99998756 0.99978002 0.9999386  0.99890716 0.99939203 0.99918\n",
            "  0.9999701  0.99990853]\n",
            " [0.99998296 0.99980638 0.99985597 0.99791954 0.99918157 0.99936016\n",
            "  0.99995631 0.9999389 ]\n",
            " [0.99997775 0.9995468  0.99994076 0.99862715 0.99897634 0.99834603\n",
            "  0.99993819 0.99978661]\n",
            " [0.9999859  0.99975362 0.99986187 0.99742571 0.99929386 0.99937071\n",
            "  0.99995892 0.99991066]\n",
            " [0.99994539 0.9991145  0.9998312  0.99607013 0.99786034 0.99737923\n",
            "  0.99975065 0.99958754]\n",
            " [0.99997672 0.99950946 0.99993115 0.99730524 0.99843767 0.99893346\n",
            "  0.99997551 0.99988577]\n",
            " [0.9999739  0.99975189 0.99985299 0.99764053 0.99871379 0.99915432\n",
            "  0.99994743 0.9999346 ]\n",
            " [0.99999188 0.99984814 0.99991518 0.99877443 0.99961698 0.99948919\n",
            "  0.99997314 0.99992939]]\n"
          ],
          "name": "stdout"
        }
      ]
    },
    {
      "cell_type": "code",
      "metadata": {
        "id": "qYUiEC-ykXRi",
        "colab_type": "code",
        "colab": {}
      },
      "source": [
        ""
      ],
      "execution_count": null,
      "outputs": []
    }
  ]
}