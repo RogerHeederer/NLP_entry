{
  "nbformat": 4,
  "nbformat_minor": 0,
  "metadata": {
    "colab": {
      "name": "S2S_re.ipynb",
      "provenance": [],
      "collapsed_sections": [],
      "machine_shape": "hm",
      "authorship_tag": "ABX9TyMDDI3iq07wFbSJc/SHGvlV",
      "include_colab_link": true
    },
    "kernelspec": {
      "name": "python3",
      "display_name": "Python 3"
    },
    "accelerator": "GPU"
  },
  "cells": [
    {
      "cell_type": "markdown",
      "metadata": {
        "id": "view-in-github",
        "colab_type": "text"
      },
      "source": [
        "<a href=\"https://colab.research.google.com/github/RogerHeederer/NLP_entry/blob/master/S2S_re.ipynb\" target=\"_parent\"><img src=\"https://colab.research.google.com/assets/colab-badge.svg\" alt=\"Open In Colab\"/></a>"
      ]
    },
    {
      "cell_type": "code",
      "metadata": {
        "id": "CAi7PI5PDZBp",
        "colab_type": "code",
        "colab": {}
      },
      "source": [
        "import pandas as pd\n",
        "import urllib3\n",
        "import zipfile\n",
        "import shutil\n",
        "import os\n",
        "from tensorflow.keras.preprocessing.sequence import pad_sequences\n",
        "from tensorflow.keras.utils import to_categorical"
      ],
      "execution_count": 1,
      "outputs": []
    },
    {
      "cell_type": "code",
      "metadata": {
        "id": "tzzrJhWIG8j_",
        "colab_type": "code",
        "colab": {}
      },
      "source": [
        "http = urllib3.PoolManager()\n",
        "url = 'http://www.manythings.org/anki/fra-eng.zip'\n",
        "filename = 'fra-eng.zip'\n",
        "path = os.getcwd()\n",
        "zipfilename = os.path.join(path, filename)\n",
        "with http.request('GET', url, preload_content=False) as r, open(zipfilename, 'wb') as out_file:\n",
        "  shutil.copyfileobj(r, out_file)\n",
        "\n",
        "with zipfile.ZipFile(zipfilename, 'r') as zip_ref:\n",
        "  zip_ref.extractall(path)"
      ],
      "execution_count": 2,
      "outputs": []
    },
    {
      "cell_type": "code",
      "metadata": {
        "id": "BJTsgJTQS90p",
        "colab_type": "code",
        "colab": {
          "base_uri": "https://localhost:8080/",
          "height": 34
        },
        "outputId": "e1e04eac-b450-4c5b-e9ae-9adb6ca5ce03"
      },
      "source": [
        "lines = pd.read_csv('fra.txt', names=['src', 'tar', 'lic'], sep='\\t')\n",
        "del lines['lic']\n",
        "len(lines)"
      ],
      "execution_count": 3,
      "outputs": [
        {
          "output_type": "execute_result",
          "data": {
            "text/plain": [
              "178009"
            ]
          },
          "metadata": {
            "tags": []
          },
          "execution_count": 3
        }
      ]
    },
    {
      "cell_type": "code",
      "metadata": {
        "id": "mDPzsPCSTKAX",
        "colab_type": "code",
        "colab": {
          "base_uri": "https://localhost:8080/",
          "height": 359
        },
        "outputId": "f01a5258-266e-47c4-8a70-1e2bbec169e7"
      },
      "source": [
        "lines = lines.loc[:, 'src':'tar']\n",
        "lines = lines[0:60000] # 6만개만 저장\n",
        "lines.sample(10)"
      ],
      "execution_count": 4,
      "outputs": [
        {
          "output_type": "execute_result",
          "data": {
            "text/html": [
              "<div>\n",
              "<style scoped>\n",
              "    .dataframe tbody tr th:only-of-type {\n",
              "        vertical-align: middle;\n",
              "    }\n",
              "\n",
              "    .dataframe tbody tr th {\n",
              "        vertical-align: top;\n",
              "    }\n",
              "\n",
              "    .dataframe thead th {\n",
              "        text-align: right;\n",
              "    }\n",
              "</style>\n",
              "<table border=\"1\" class=\"dataframe\">\n",
              "  <thead>\n",
              "    <tr style=\"text-align: right;\">\n",
              "      <th></th>\n",
              "      <th>src</th>\n",
              "      <th>tar</th>\n",
              "    </tr>\n",
              "  </thead>\n",
              "  <tbody>\n",
              "    <tr>\n",
              "      <th>9782</th>\n",
              "      <td>You are morons.</td>\n",
              "      <td>Vous êtes des idiots.</td>\n",
              "    </tr>\n",
              "    <tr>\n",
              "      <th>59731</th>\n",
              "      <td>You need to hit the gym.</td>\n",
              "      <td>Il vous faut aller à la gym.</td>\n",
              "    </tr>\n",
              "    <tr>\n",
              "      <th>18685</th>\n",
              "      <td>He is watching TV.</td>\n",
              "      <td>Il regarde la TV.</td>\n",
              "    </tr>\n",
              "    <tr>\n",
              "      <th>42059</th>\n",
              "      <td>I have my own bedroom.</td>\n",
              "      <td>J'ai ma propre chambre.</td>\n",
              "    </tr>\n",
              "    <tr>\n",
              "      <th>37670</th>\n",
              "      <td>She used to hate him.</td>\n",
              "      <td>Elle le détestait.</td>\n",
              "    </tr>\n",
              "    <tr>\n",
              "      <th>15284</th>\n",
              "      <td>I was overweight.</td>\n",
              "      <td>J'étais en surpoids.</td>\n",
              "    </tr>\n",
              "    <tr>\n",
              "      <th>29502</th>\n",
              "      <td>I could use a drink.</td>\n",
              "      <td>J'aurais bien besoin d'un verre.</td>\n",
              "    </tr>\n",
              "    <tr>\n",
              "      <th>28126</th>\n",
              "      <td>You're very clever.</td>\n",
              "      <td>Vous êtes fort habile.</td>\n",
              "    </tr>\n",
              "    <tr>\n",
              "      <th>34820</th>\n",
              "      <td>He missed his flight.</td>\n",
              "      <td>Il a raté son vol.</td>\n",
              "    </tr>\n",
              "    <tr>\n",
              "      <th>54445</th>\n",
              "      <td>He was knee deep in mud.</td>\n",
              "      <td>Il était dans la boue jusqu'aux genoux.</td>\n",
              "    </tr>\n",
              "  </tbody>\n",
              "</table>\n",
              "</div>"
            ],
            "text/plain": [
              "                            src                                      tar\n",
              "9782            You are morons.                    Vous êtes des idiots.\n",
              "59731  You need to hit the gym.             Il vous faut aller à la gym.\n",
              "18685        He is watching TV.                        Il regarde la TV.\n",
              "42059    I have my own bedroom.                  J'ai ma propre chambre.\n",
              "37670     She used to hate him.                       Elle le détestait.\n",
              "15284         I was overweight.                     J'étais en surpoids.\n",
              "29502      I could use a drink.         J'aurais bien besoin d'un verre.\n",
              "28126       You're very clever.                   Vous êtes fort habile.\n",
              "34820     He missed his flight.                       Il a raté son vol.\n",
              "54445  He was knee deep in mud.  Il était dans la boue jusqu'aux genoux."
            ]
          },
          "metadata": {
            "tags": []
          },
          "execution_count": 4
        }
      ]
    },
    {
      "cell_type": "code",
      "metadata": {
        "id": "C6ncM5qYTNpE",
        "colab_type": "code",
        "colab": {
          "base_uri": "https://localhost:8080/",
          "height": 359
        },
        "outputId": "58cabe66-f4cd-46f0-bf62-5a0ffec65b85"
      },
      "source": [
        "lines.tar = lines.tar.apply(lambda x : '\\t ' + x + ' \\n')\n",
        "lines.sample(10)"
      ],
      "execution_count": 5,
      "outputs": [
        {
          "output_type": "execute_result",
          "data": {
            "text/html": [
              "<div>\n",
              "<style scoped>\n",
              "    .dataframe tbody tr th:only-of-type {\n",
              "        vertical-align: middle;\n",
              "    }\n",
              "\n",
              "    .dataframe tbody tr th {\n",
              "        vertical-align: top;\n",
              "    }\n",
              "\n",
              "    .dataframe thead th {\n",
              "        text-align: right;\n",
              "    }\n",
              "</style>\n",
              "<table border=\"1\" class=\"dataframe\">\n",
              "  <thead>\n",
              "    <tr style=\"text-align: right;\">\n",
              "      <th></th>\n",
              "      <th>src</th>\n",
              "      <th>tar</th>\n",
              "    </tr>\n",
              "  </thead>\n",
              "  <tbody>\n",
              "    <tr>\n",
              "      <th>56948</th>\n",
              "      <td>My father was a teacher.</td>\n",
              "      <td>\\t Mon père était enseignant. \\n</td>\n",
              "    </tr>\n",
              "    <tr>\n",
              "      <th>10449</th>\n",
              "      <td>Everyone danced.</td>\n",
              "      <td>\\t Tout le monde dansait. \\n</td>\n",
              "    </tr>\n",
              "    <tr>\n",
              "      <th>47177</th>\n",
              "      <td>Do you write in French?</td>\n",
              "      <td>\\t Écris-tu en français ? \\n</td>\n",
              "    </tr>\n",
              "    <tr>\n",
              "      <th>50116</th>\n",
              "      <td>Let's begin on page 30.</td>\n",
              "      <td>\\t Commençons à la page trente. \\n</td>\n",
              "    </tr>\n",
              "    <tr>\n",
              "      <th>55300</th>\n",
              "      <td>I hope you're not alone.</td>\n",
              "      <td>\\t J'espère que vous n'êtes pas seules. \\n</td>\n",
              "    </tr>\n",
              "    <tr>\n",
              "      <th>53033</th>\n",
              "      <td>You need to stay awake.</td>\n",
              "      <td>\\t Tu dois rester éveillée. \\n</td>\n",
              "    </tr>\n",
              "    <tr>\n",
              "      <th>15982</th>\n",
              "      <td>Lower your voice.</td>\n",
              "      <td>\\t Baissez la voix. \\n</td>\n",
              "    </tr>\n",
              "    <tr>\n",
              "      <th>1504</th>\n",
              "      <td>Is he tall?</td>\n",
              "      <td>\\t Est-il grand ? \\n</td>\n",
              "    </tr>\n",
              "    <tr>\n",
              "      <th>17750</th>\n",
              "      <td>You're a man now.</td>\n",
              "      <td>\\t Tu es désormais un homme. \\n</td>\n",
              "    </tr>\n",
              "    <tr>\n",
              "      <th>46164</th>\n",
              "      <td>You don't have to lie.</td>\n",
              "      <td>\\t Tu n'es pas forcé de mentir. \\n</td>\n",
              "    </tr>\n",
              "  </tbody>\n",
              "</table>\n",
              "</div>"
            ],
            "text/plain": [
              "                            src                                         tar\n",
              "56948  My father was a teacher.            \\t Mon père était enseignant. \\n\n",
              "10449          Everyone danced.                \\t Tout le monde dansait. \\n\n",
              "47177   Do you write in French?                \\t Écris-tu en français ? \\n\n",
              "50116   Let's begin on page 30.          \\t Commençons à la page trente. \\n\n",
              "55300  I hope you're not alone.  \\t J'espère que vous n'êtes pas seules. \\n\n",
              "53033   You need to stay awake.              \\t Tu dois rester éveillée. \\n\n",
              "15982         Lower your voice.                      \\t Baissez la voix. \\n\n",
              "1504                Is he tall?                        \\t Est-il grand ? \\n\n",
              "17750         You're a man now.             \\t Tu es désormais un homme. \\n\n",
              "46164    You don't have to lie.          \\t Tu n'es pas forcé de mentir. \\n"
            ]
          },
          "metadata": {
            "tags": []
          },
          "execution_count": 5
        }
      ]
    },
    {
      "cell_type": "code",
      "metadata": {
        "id": "FwxwnJg5TcoD",
        "colab_type": "code",
        "colab": {}
      },
      "source": [
        "#글자 집합 구축\n",
        "src_vocab=set()\n",
        "for line in lines.src: # 1라인씩 읽어오고\n",
        "  for char in line: #1라인에서 1글자씩 읽어옴\n",
        "    src_vocab.add(char)\n",
        "\n",
        "tar_vocab=set()\n",
        "for line in lines.tar:\n",
        "  for char in line:\n",
        "    tar_vocab.add(char)"
      ],
      "execution_count": 6,
      "outputs": []
    },
    {
      "cell_type": "code",
      "metadata": {
        "id": "sQmhHxV9Untt",
        "colab_type": "code",
        "colab": {
          "base_uri": "https://localhost:8080/",
          "height": 71
        },
        "outputId": "c4bd3086-7295-4f76-f273-60866500217b"
      },
      "source": [
        "print(src_vocab)\n",
        "print(tar_vocab)"
      ],
      "execution_count": 7,
      "outputs": [
        {
          "output_type": "stream",
          "text": [
            "{'J', 'n', 'u', 's', '\"', 'x', 'I', '/', 'K', '9', 'z', 'X', '5', 'e', 'P', 'f', '7', 'k', 'y', 'h', 'm', '.', '8', 'q', 'A', \"'\", 'L', '’', 'O', 'H', 'U', 'a', 'v', 'B', 'p', 'M', 'l', '2', '$', '€', '-', 'R', 'W', 'é', 'F', '1', 'Q', 'g', 'V', '3', 'D', '?', 'i', '0', 'Z', 't', 'E', '!', '4', 'b', 'G', ',', ' ', 'C', 'r', '6', 'c', 'w', 'd', 'T', 'j', ':', 'N', '&', 'Y', '%', 'S', 'o'}\n",
            "{'n', 'à', 'x', 'K', 'ù', ')', 'f', 'm', '’', 'L', 'Ô', 'p', 'é', 'W', 'F', 'Q', 'D', '?', 'E', '\\u202f', 'd', 'T', ':', 'С', 'B', 's', 'X', 'P', 'k', 'h', '.', 'O', '\\u2009', 'a', 'v', '‘', 'R', 'i', 'â', 'œ', '4', 'À', 'Ê', ' ', 'r', 'c', 'N', '»', 'j', '\"', '9', 'e', '8', 'q', 'A', \"'\", 'ê', 'û', 'H', 'U', 'M', '$', '-', 'g', 'î', '\\xa0', '3', '0', 'Z', 'b', 'ë', 'G', 'è', 'C', '6', '&', 'Y', '%', 'J', 'u', 'I', 'z', '5', '7', 'É', '(', 'y', '\\u200b', 'ô', '«', 'Ç', 'l', '2', '\\n', 'ç', '1', 'V', '\\t', 't', '!', ',', 'w', 'ï', 'S', 'o'}\n"
          ],
          "name": "stdout"
        }
      ]
    },
    {
      "cell_type": "code",
      "metadata": {
        "id": "gT73pgypUxtf",
        "colab_type": "code",
        "colab": {
          "base_uri": "https://localhost:8080/",
          "height": 51
        },
        "outputId": "f316d9d9-91a2-4682-9dd7-d0afab2f702e"
      },
      "source": [
        "src_vocab_size = len(src_vocab)+1\n",
        "tar_vocab_size = len(tar_vocab)+1\n",
        "print(src_vocab_size)\n",
        "print(tar_vocab_size)"
      ],
      "execution_count": 8,
      "outputs": [
        {
          "output_type": "stream",
          "text": [
            "79\n",
            "106\n"
          ],
          "name": "stdout"
        }
      ]
    },
    {
      "cell_type": "code",
      "metadata": {
        "id": "HTqxtp1FVEXA",
        "colab_type": "code",
        "colab": {
          "base_uri": "https://localhost:8080/",
          "height": 71
        },
        "outputId": "c813cc1e-fa76-4bb4-a781-489bddca7963"
      },
      "source": [
        "#각 글자에 인덱스 부여\n",
        "src_to_index = dict([(word, i+1) for i, word in enumerate(src_vocab)])\n",
        "tar_to_index = dict([(word, i+1) for i, word in enumerate(tar_vocab)])\n",
        "\n",
        "print(src_to_index)\n",
        "print(tar_to_index)"
      ],
      "execution_count": 9,
      "outputs": [
        {
          "output_type": "stream",
          "text": [
            "{'J': 1, 'n': 2, 'u': 3, 's': 4, '\"': 5, 'x': 6, 'I': 7, '/': 8, 'K': 9, '9': 10, 'z': 11, 'X': 12, '5': 13, 'e': 14, 'P': 15, 'f': 16, '7': 17, 'k': 18, 'y': 19, 'h': 20, 'm': 21, '.': 22, '8': 23, 'q': 24, 'A': 25, \"'\": 26, 'L': 27, '’': 28, 'O': 29, 'H': 30, 'U': 31, 'a': 32, 'v': 33, 'B': 34, 'p': 35, 'M': 36, 'l': 37, '2': 38, '$': 39, '€': 40, '-': 41, 'R': 42, 'W': 43, 'é': 44, 'F': 45, '1': 46, 'Q': 47, 'g': 48, 'V': 49, '3': 50, 'D': 51, '?': 52, 'i': 53, '0': 54, 'Z': 55, 't': 56, 'E': 57, '!': 58, '4': 59, 'b': 60, 'G': 61, ',': 62, ' ': 63, 'C': 64, 'r': 65, '6': 66, 'c': 67, 'w': 68, 'd': 69, 'T': 70, 'j': 71, ':': 72, 'N': 73, '&': 74, 'Y': 75, '%': 76, 'S': 77, 'o': 78}\n",
            "{'n': 1, 'à': 2, 'x': 3, 'K': 4, 'ù': 5, ')': 6, 'f': 7, 'm': 8, '’': 9, 'L': 10, 'Ô': 11, 'p': 12, 'é': 13, 'W': 14, 'F': 15, 'Q': 16, 'D': 17, '?': 18, 'E': 19, '\\u202f': 20, 'd': 21, 'T': 22, ':': 23, 'С': 24, 'B': 25, 's': 26, 'X': 27, 'P': 28, 'k': 29, 'h': 30, '.': 31, 'O': 32, '\\u2009': 33, 'a': 34, 'v': 35, '‘': 36, 'R': 37, 'i': 38, 'â': 39, 'œ': 40, '4': 41, 'À': 42, 'Ê': 43, ' ': 44, 'r': 45, 'c': 46, 'N': 47, '»': 48, 'j': 49, '\"': 50, '9': 51, 'e': 52, '8': 53, 'q': 54, 'A': 55, \"'\": 56, 'ê': 57, 'û': 58, 'H': 59, 'U': 60, 'M': 61, '$': 62, '-': 63, 'g': 64, 'î': 65, '\\xa0': 66, '3': 67, '0': 68, 'Z': 69, 'b': 70, 'ë': 71, 'G': 72, 'è': 73, 'C': 74, '6': 75, '&': 76, 'Y': 77, '%': 78, 'J': 79, 'u': 80, 'I': 81, 'z': 82, '5': 83, '7': 84, 'É': 85, '(': 86, 'y': 87, '\\u200b': 88, 'ô': 89, '«': 90, 'Ç': 91, 'l': 92, '2': 93, '\\n': 94, 'ç': 95, '1': 96, 'V': 97, '\\t': 98, 't': 99, '!': 100, ',': 101, 'w': 102, 'ï': 103, 'S': 104, 'o': 105}\n"
          ],
          "name": "stdout"
        }
      ]
    },
    {
      "cell_type": "code",
      "metadata": {
        "id": "2LKUlrFoVvD6",
        "colab_type": "code",
        "colab": {
          "base_uri": "https://localhost:8080/",
          "height": 34
        },
        "outputId": "95fa91b2-e5b3-4bed-e406-d2b94ee59684"
      },
      "source": [
        "#인덱스가 부여된 글자집합 기준으로 훈련데이터 정수 인코딩 수행 - 영어문장\n",
        "encoder_input = []\n",
        "for line in lines.src:\n",
        "  temp_X = []\n",
        "  for w in line:\n",
        "    temp_X.append(src_to_index[w])\n",
        "  encoder_input.append(temp_X)\n",
        "print(encoder_input[:5])"
      ],
      "execution_count": 10,
      "outputs": [
        {
          "output_type": "stream",
          "text": [
            "[[61, 78, 22], [30, 53, 22], [30, 53, 22], [42, 3, 2, 58], [42, 3, 2, 58]]\n"
          ],
          "name": "stdout"
        }
      ]
    },
    {
      "cell_type": "code",
      "metadata": {
        "id": "S_CDXs8AWMyH",
        "colab_type": "code",
        "colab": {
          "base_uri": "https://localhost:8080/",
          "height": 54
        },
        "outputId": "c1e2ea70-167a-401f-badd-fc3ec8f4a020"
      },
      "source": [
        "#인덱스가 부여된 글자집합 기준으로 훈련데이터 정수 인코딩 수행 - 프랑스어\n",
        "decoder_input = []\n",
        "for line in lines.tar:\n",
        "  temp_X = []\n",
        "  for w in line:\n",
        "    temp_X.append(tar_to_index[w])\n",
        "  decoder_input.append(temp_X)\n",
        "print(decoder_input[:5])"
      ],
      "execution_count": 11,
      "outputs": [
        {
          "output_type": "stream",
          "text": [
            "[[98, 44, 97, 34, 44, 100, 44, 94], [98, 44, 104, 34, 92, 80, 99, 44, 100, 44, 94], [98, 44, 104, 34, 92, 80, 99, 31, 44, 94], [98, 44, 74, 105, 80, 45, 26, 20, 100, 44, 94], [98, 44, 74, 105, 80, 45, 52, 82, 20, 100, 44, 94]]\n"
          ],
          "name": "stdout"
        }
      ]
    },
    {
      "cell_type": "code",
      "metadata": {
        "id": "vFWr3O-3W64_",
        "colab_type": "code",
        "colab": {
          "base_uri": "https://localhost:8080/",
          "height": 54
        },
        "outputId": "1756daa0-db2d-4e81-f8f5-46b51bcfdae7"
      },
      "source": [
        "#디코더의 출력값이랑 비교될 실제값 정수 인코딩\n",
        "decoder_target = []\n",
        "for line in lines.tar:\n",
        "  t=0\n",
        "  temp_X = []\n",
        "  for w in line:\n",
        "    if t>0: # 실제값은 앞에 붙은 \\t를 빼줘야함\n",
        "      temp_X.append(tar_to_index[w])\n",
        "    t=t+1\n",
        "  decoder_target.append(temp_X)\n",
        "print(decoder_target[:5])"
      ],
      "execution_count": 12,
      "outputs": [
        {
          "output_type": "stream",
          "text": [
            "[[44, 97, 34, 44, 100, 44, 94], [44, 104, 34, 92, 80, 99, 44, 100, 44, 94], [44, 104, 34, 92, 80, 99, 31, 44, 94], [44, 74, 105, 80, 45, 26, 20, 100, 44, 94], [44, 74, 105, 80, 45, 52, 82, 20, 100, 44, 94]]\n"
          ],
          "name": "stdout"
        }
      ]
    },
    {
      "cell_type": "code",
      "metadata": {
        "id": "2X-waNcVXizW",
        "colab_type": "code",
        "colab": {
          "base_uri": "https://localhost:8080/",
          "height": 51
        },
        "outputId": "034abeef-8362-4044-e329-44af49fd829c"
      },
      "source": [
        "#앞서 부여된 디코더값의 /t index = 98 값은 타겟(정답) 데이터 셋에서는 제거된 것을 확인\n",
        "#이제 모든 데이터에 대해 정수 인코딩은 끝났으니, 패딩 작업 수행\n",
        "\n",
        "max_src_len = max([ len(line) for line in lines.src ])\n",
        "max_tar_len = max([ len(line) for line in lines.tar ])\n",
        "print(max_src_len)\n",
        "print(max_tar_len)"
      ],
      "execution_count": 13,
      "outputs": [
        {
          "output_type": "stream",
          "text": [
            "24\n",
            "76\n"
          ],
          "name": "stdout"
        }
      ]
    },
    {
      "cell_type": "code",
      "metadata": {
        "id": "G9UEnxwAgj30",
        "colab_type": "code",
        "colab": {}
      },
      "source": [
        "#영어 길이는 전부 24로 패딩, 프랑스어 길이는 전부 76으로 패딩\n",
        "\n",
        "encoder_input = pad_sequences(encoder_input, maxlen = max_src_len, padding='post')\n",
        "decoder_input = pad_sequences(decoder_input, maxlen=max_tar_len, padding='post')\n",
        "decoder_target = pad_sequences(decoder_target, maxlen=max_tar_len, padding='post')"
      ],
      "execution_count": 14,
      "outputs": []
    },
    {
      "cell_type": "code",
      "metadata": {
        "id": "jiVCSywJhT4a",
        "colab_type": "code",
        "colab": {
          "base_uri": "https://localhost:8080/",
          "height": 34
        },
        "outputId": "31327f49-1132-4178-de73-5d8d01e25977"
      },
      "source": [
        "print(encoder_input[1])"
      ],
      "execution_count": 15,
      "outputs": [
        {
          "output_type": "stream",
          "text": [
            "[30 53 22  0  0  0  0  0  0  0  0  0  0  0  0  0  0  0  0  0  0  0  0  0]\n"
          ],
          "name": "stdout"
        }
      ]
    },
    {
      "cell_type": "code",
      "metadata": {
        "id": "08-2wZDDhLLA",
        "colab_type": "code",
        "colab": {}
      },
      "source": [
        "#원핫벡터 적용\n",
        "encoder_input = to_categorical(encoder_input)\n",
        "decoder_input = to_categorical(decoder_input)\n",
        "decoder_target = to_categorical(decoder_target)"
      ],
      "execution_count": 16,
      "outputs": []
    },
    {
      "cell_type": "code",
      "metadata": {
        "id": "QLMhi4fahWki",
        "colab_type": "code",
        "colab": {
          "base_uri": "https://localhost:8080/",
          "height": 85
        },
        "outputId": "af6c927d-7588-4fd8-d019-a07308e4d278"
      },
      "source": [
        "print(encoder_input[1][0]) # 23"
      ],
      "execution_count": 17,
      "outputs": [
        {
          "output_type": "stream",
          "text": [
            "[0. 0. 0. 0. 0. 0. 0. 0. 0. 0. 0. 0. 0. 0. 0. 0. 0. 0. 0. 0. 0. 0. 0. 0.\n",
            " 0. 0. 0. 0. 0. 0. 1. 0. 0. 0. 0. 0. 0. 0. 0. 0. 0. 0. 0. 0. 0. 0. 0. 0.\n",
            " 0. 0. 0. 0. 0. 0. 0. 0. 0. 0. 0. 0. 0. 0. 0. 0. 0. 0. 0. 0. 0. 0. 0. 0.\n",
            " 0. 0. 0. 0. 0. 0. 0.]\n"
          ],
          "name": "stdout"
        }
      ]
    },
    {
      "cell_type": "code",
      "metadata": {
        "id": "8ImNbC4KhZAl",
        "colab_type": "code",
        "colab": {
          "base_uri": "https://localhost:8080/",
          "height": 85
        },
        "outputId": "103c266d-fc5e-4ac6-ddc9-ff56c6b09e5a"
      },
      "source": [
        "print(encoder_input[1][1]) # 31"
      ],
      "execution_count": 18,
      "outputs": [
        {
          "output_type": "stream",
          "text": [
            "[0. 0. 0. 0. 0. 0. 0. 0. 0. 0. 0. 0. 0. 0. 0. 0. 0. 0. 0. 0. 0. 0. 0. 0.\n",
            " 0. 0. 0. 0. 0. 0. 0. 0. 0. 0. 0. 0. 0. 0. 0. 0. 0. 0. 0. 0. 0. 0. 0. 0.\n",
            " 0. 0. 0. 0. 0. 1. 0. 0. 0. 0. 0. 0. 0. 0. 0. 0. 0. 0. 0. 0. 0. 0. 0. 0.\n",
            " 0. 0. 0. 0. 0. 0. 0.]\n"
          ],
          "name": "stdout"
        }
      ]
    },
    {
      "cell_type": "code",
      "metadata": {
        "id": "ra75xnVUiA4m",
        "colab_type": "code",
        "colab": {
          "base_uri": "https://localhost:8080/",
          "height": 85
        },
        "outputId": "a53ae94c-9dfb-4a27-bd4e-21b3f88ef7e0"
      },
      "source": [
        "print(encoder_input[1][2]) # 10"
      ],
      "execution_count": 19,
      "outputs": [
        {
          "output_type": "stream",
          "text": [
            "[0. 0. 0. 0. 0. 0. 0. 0. 0. 0. 0. 0. 0. 0. 0. 0. 0. 0. 0. 0. 0. 0. 1. 0.\n",
            " 0. 0. 0. 0. 0. 0. 0. 0. 0. 0. 0. 0. 0. 0. 0. 0. 0. 0. 0. 0. 0. 0. 0. 0.\n",
            " 0. 0. 0. 0. 0. 0. 0. 0. 0. 0. 0. 0. 0. 0. 0. 0. 0. 0. 0. 0. 0. 0. 0. 0.\n",
            " 0. 0. 0. 0. 0. 0. 0.]\n"
          ],
          "name": "stdout"
        }
      ]
    },
    {
      "cell_type": "markdown",
      "metadata": {
        "id": "sQrcFe9OijRL",
        "colab_type": "text"
      },
      "source": [
        "## S2S 훈련"
      ]
    },
    {
      "cell_type": "code",
      "metadata": {
        "id": "f0Yg6Z1DiEje",
        "colab_type": "code",
        "colab": {}
      },
      "source": [
        "from tensorflow.keras.layers import Input, LSTM, Embedding, Dense\n",
        "from tensorflow.keras.models import Model\n",
        "import numpy as np"
      ],
      "execution_count": 20,
      "outputs": []
    },
    {
      "cell_type": "code",
      "metadata": {
        "id": "rjqia4Xgivq8",
        "colab_type": "code",
        "colab": {}
      },
      "source": [
        "encoder_inputs = Input(shape=(None, src_vocab_size)) #None, 79\n",
        "encoder_lstm = LSTM(units=256, return_state = True)\n",
        "encoder_outputs, state_h, state_c = encoder_lstm(encoder_inputs)\n",
        "encoder_states = [state_h, state_c] #은닉 값과, 셀 상태 받음"
      ],
      "execution_count": 21,
      "outputs": []
    },
    {
      "cell_type": "code",
      "metadata": {
        "id": "9-c9PT6qjTu_",
        "colab_type": "code",
        "colab": {
          "base_uri": "https://localhost:8080/",
          "height": 1000
        },
        "outputId": "11ae6a57-56c0-4df9-8948-f66bf3bfd032"
      },
      "source": [
        "decoder_inputs = Input(shape=(None, tar_vocab_size))\n",
        "decoder_lstm = LSTM(units=256, return_sequences=True, return_state=True)\n",
        "#디코더의 첫 상태를 인코더의 은닉상태로 세팅\n",
        "decoder_outputs, _, _ = decoder_lstm(decoder_inputs, initial_state=encoder_states) \n",
        "\n",
        "decoder_softmax_layer = Dense(tar_vocab_size, activation='softmax')\n",
        "decoder_outputs = decoder_softmax_layer(decoder_outputs)\n",
        "\n",
        "model = Model([encoder_inputs, decoder_inputs], decoder_outputs)\n",
        "model.compile(optimizer=\"rmsprop\", loss=\"categorical_crossentropy\")\n",
        "\n",
        "model.fit(x=[encoder_input, decoder_input], y=decoder_target, batch_size=64, epochs=50, validation_split=0.2)"
      ],
      "execution_count": 22,
      "outputs": [
        {
          "output_type": "stream",
          "text": [
            "Epoch 1/50\n",
            "750/750 [==============================] - 9s 13ms/step - loss: 0.7720 - val_loss: 0.6832\n",
            "Epoch 2/50\n",
            "750/750 [==============================] - 9s 12ms/step - loss: 0.4723 - val_loss: 0.5428\n",
            "Epoch 3/50\n",
            "750/750 [==============================] - 9s 12ms/step - loss: 0.3924 - val_loss: 0.4761\n",
            "Epoch 4/50\n",
            "750/750 [==============================] - 9s 12ms/step - loss: 0.3488 - val_loss: 0.4434\n",
            "Epoch 5/50\n",
            "750/750 [==============================] - 9s 12ms/step - loss: 0.3200 - val_loss: 0.4177\n",
            "Epoch 6/50\n",
            "750/750 [==============================] - 9s 12ms/step - loss: 0.2992 - val_loss: 0.4014\n",
            "Epoch 7/50\n",
            "750/750 [==============================] - 9s 12ms/step - loss: 0.2829 - val_loss: 0.3877\n",
            "Epoch 8/50\n",
            "750/750 [==============================] - 9s 12ms/step - loss: 0.2697 - val_loss: 0.3769\n",
            "Epoch 9/50\n",
            "750/750 [==============================] - 9s 12ms/step - loss: 0.2586 - val_loss: 0.3697\n",
            "Epoch 10/50\n",
            "750/750 [==============================] - 9s 12ms/step - loss: 0.2491 - val_loss: 0.3656\n",
            "Epoch 11/50\n",
            "750/750 [==============================] - 9s 12ms/step - loss: 0.2407 - val_loss: 0.3615\n",
            "Epoch 12/50\n",
            "750/750 [==============================] - 9s 12ms/step - loss: 0.2332 - val_loss: 0.3590\n",
            "Epoch 13/50\n",
            "750/750 [==============================] - 9s 12ms/step - loss: 0.2266 - val_loss: 0.3566\n",
            "Epoch 14/50\n",
            "750/750 [==============================] - 9s 12ms/step - loss: 0.2205 - val_loss: 0.3572\n",
            "Epoch 15/50\n",
            "750/750 [==============================] - 9s 12ms/step - loss: 0.2149 - val_loss: 0.3548\n",
            "Epoch 16/50\n",
            "750/750 [==============================] - 9s 12ms/step - loss: 0.2097 - val_loss: 0.3543\n",
            "Epoch 17/50\n",
            "750/750 [==============================] - 9s 12ms/step - loss: 0.2049 - val_loss: 0.3550\n",
            "Epoch 18/50\n",
            "750/750 [==============================] - 9s 12ms/step - loss: 0.2002 - val_loss: 0.3548\n",
            "Epoch 19/50\n",
            "750/750 [==============================] - 9s 12ms/step - loss: 0.1961 - val_loss: 0.3549\n",
            "Epoch 20/50\n",
            "750/750 [==============================] - 9s 12ms/step - loss: 0.1921 - val_loss: 0.3566\n",
            "Epoch 21/50\n",
            "750/750 [==============================] - 9s 12ms/step - loss: 0.1881 - val_loss: 0.3581\n",
            "Epoch 22/50\n",
            "750/750 [==============================] - 9s 12ms/step - loss: 0.1846 - val_loss: 0.3586\n",
            "Epoch 23/50\n",
            "750/750 [==============================] - 9s 12ms/step - loss: 0.1811 - val_loss: 0.3620\n",
            "Epoch 24/50\n",
            "750/750 [==============================] - 9s 12ms/step - loss: 0.1780 - val_loss: 0.3633\n",
            "Epoch 25/50\n",
            "750/750 [==============================] - 9s 12ms/step - loss: 0.1748 - val_loss: 0.3667\n",
            "Epoch 26/50\n",
            "750/750 [==============================] - 9s 12ms/step - loss: 0.1719 - val_loss: 0.3676\n",
            "Epoch 27/50\n",
            "750/750 [==============================] - 9s 12ms/step - loss: 0.1691 - val_loss: 0.3709\n",
            "Epoch 28/50\n",
            "750/750 [==============================] - 9s 12ms/step - loss: 0.1663 - val_loss: 0.3724\n",
            "Epoch 29/50\n",
            "750/750 [==============================] - 9s 12ms/step - loss: 0.1638 - val_loss: 0.3755\n",
            "Epoch 30/50\n",
            "750/750 [==============================] - 9s 12ms/step - loss: 0.1612 - val_loss: 0.3782\n",
            "Epoch 31/50\n",
            "750/750 [==============================] - 9s 12ms/step - loss: 0.1589 - val_loss: 0.3793\n",
            "Epoch 32/50\n",
            "750/750 [==============================] - 9s 12ms/step - loss: 0.1567 - val_loss: 0.3839\n",
            "Epoch 33/50\n",
            "750/750 [==============================] - 9s 12ms/step - loss: 0.1545 - val_loss: 0.3847\n",
            "Epoch 34/50\n",
            "750/750 [==============================] - 9s 12ms/step - loss: 0.1523 - val_loss: 0.3879\n",
            "Epoch 35/50\n",
            "750/750 [==============================] - 9s 12ms/step - loss: 0.1504 - val_loss: 0.3893\n",
            "Epoch 36/50\n",
            "750/750 [==============================] - 9s 12ms/step - loss: 0.1485 - val_loss: 0.3921\n",
            "Epoch 37/50\n",
            "750/750 [==============================] - 9s 12ms/step - loss: 0.1465 - val_loss: 0.3943\n",
            "Epoch 38/50\n",
            "750/750 [==============================] - 9s 12ms/step - loss: 0.1447 - val_loss: 0.3972\n",
            "Epoch 39/50\n",
            "750/750 [==============================] - 9s 12ms/step - loss: 0.1431 - val_loss: 0.4002\n",
            "Epoch 40/50\n",
            "750/750 [==============================] - 9s 12ms/step - loss: 0.1413 - val_loss: 0.4031\n",
            "Epoch 41/50\n",
            "750/750 [==============================] - 9s 12ms/step - loss: 0.1396 - val_loss: 0.4069\n",
            "Epoch 42/50\n",
            "750/750 [==============================] - 9s 12ms/step - loss: 0.1380 - val_loss: 0.4109\n",
            "Epoch 43/50\n",
            "750/750 [==============================] - 9s 12ms/step - loss: 0.1365 - val_loss: 0.4114\n",
            "Epoch 44/50\n",
            "750/750 [==============================] - 9s 12ms/step - loss: 0.1351 - val_loss: 0.4145\n",
            "Epoch 45/50\n",
            "750/750 [==============================] - 9s 12ms/step - loss: 0.1336 - val_loss: 0.4163\n",
            "Epoch 46/50\n",
            "750/750 [==============================] - 9s 12ms/step - loss: 0.1324 - val_loss: 0.4196\n",
            "Epoch 47/50\n",
            "750/750 [==============================] - 9s 12ms/step - loss: 0.1310 - val_loss: 0.4204\n",
            "Epoch 48/50\n",
            "750/750 [==============================] - 9s 12ms/step - loss: 0.1297 - val_loss: 0.4242\n",
            "Epoch 49/50\n",
            "750/750 [==============================] - 9s 12ms/step - loss: 0.1284 - val_loss: 0.4256\n",
            "Epoch 50/50\n",
            "750/750 [==============================] - 9s 12ms/step - loss: 0.1271 - val_loss: 0.4280\n"
          ],
          "name": "stdout"
        },
        {
          "output_type": "execute_result",
          "data": {
            "text/plain": [
              "<tensorflow.python.keras.callbacks.History at 0x7f68edd408d0>"
            ]
          },
          "metadata": {
            "tags": []
          },
          "execution_count": 22
        }
      ]
    },
    {
      "cell_type": "code",
      "metadata": {
        "id": "HPwqI0KEIgaz",
        "colab_type": "code",
        "colab": {
          "base_uri": "https://localhost:8080/",
          "height": 68
        },
        "outputId": "1169354d-a042-4b52-d037-a711d3a2260c"
      },
      "source": [
        "encoder_inputs, encoder_states"
      ],
      "execution_count": 27,
      "outputs": [
        {
          "output_type": "execute_result",
          "data": {
            "text/plain": [
              "(<tf.Tensor 'input_1:0' shape=(None, None, 79) dtype=float32>,\n",
              " [<tf.Tensor 'lstm/PartitionedCall:2' shape=(None, 256) dtype=float32>,\n",
              "  <tf.Tensor 'lstm/PartitionedCall:3' shape=(None, 256) dtype=float32>])"
            ]
          },
          "metadata": {
            "tags": []
          },
          "execution_count": 27
        }
      ]
    },
    {
      "cell_type": "markdown",
      "metadata": {
        "id": "8Jn6_zCVKTxw",
        "colab_type": "text"
      },
      "source": [
        "##S2S 동작시키기##\n",
        "\n",
        "1. 번역하고자 하는 입력 문장이 인코더에 먼저 들어가서 은닉 상태와 셀 상태를 얻어온다\n",
        "2. 상태값과 <sos>를 디코더로 보낸다\n",
        "3. 디코더는 <eos> 가 나올 때 까지 다음 문자를 예측하는 행동을 반복한다"
      ]
    },
    {
      "cell_type": "code",
      "metadata": {
        "id": "gomhO2QUGBD-",
        "colab_type": "code",
        "colab": {}
      },
      "source": [
        "#훈련 과정에서 사용한 인코더 인풋값들과 상태값을 재사용\n",
        "encoder_model = Model(inputs=encoder_inputs, outputs=encoder_states)"
      ],
      "execution_count": 28,
      "outputs": []
    },
    {
      "cell_type": "code",
      "metadata": {
        "id": "OxBMs3DWIpa9",
        "colab_type": "code",
        "colab": {
          "base_uri": "https://localhost:8080/",
          "height": 34
        },
        "outputId": "d7bfddb8-00e3-4e72-ef41-5ca059f86362"
      },
      "source": [
        "encoder_model"
      ],
      "execution_count": 29,
      "outputs": [
        {
          "output_type": "execute_result",
          "data": {
            "text/plain": [
              "<tensorflow.python.keras.engine.functional.Functional at 0x7f68ebd73710>"
            ]
          },
          "metadata": {
            "tags": []
          },
          "execution_count": 29
        }
      ]
    },
    {
      "cell_type": "code",
      "metadata": {
        "id": "XjJeNpLGGvVV",
        "colab_type": "code",
        "colab": {}
      },
      "source": [
        "decoder_state_input_h = Input(shape=(256,))\n",
        "decoder_state_input_c = Input(shape=(256,))\n",
        "decoder_states_inputs = [decoder_state_input_h, decoder_state_input_c]\n",
        "\n",
        "decoder_outputs, state_h, state_c = decoder_lstm(decoder_inputs, initial_state = decoder_states_inputs)\n",
        "\n",
        "decoder_states = [state_h, state_c]\n",
        "\n",
        "decoder_outputs = decoder_softmax_layer(decoder_outputs)\n",
        "decoder_model = Model(inputs=[decoder_inputs] + decoder_states_inputs, outputs=[decoder_outputs] + decoder_states)"
      ],
      "execution_count": 31,
      "outputs": []
    },
    {
      "cell_type": "code",
      "metadata": {
        "id": "hCpQNg_5Hvd0",
        "colab_type": "code",
        "colab": {}
      },
      "source": [
        "#인덱스로부터 단어를 얻는 것 구현\n",
        "index_to_src = dict((i, char) for char, i in src_to_index.items())\n",
        "index_to_tar = dict((i, char) for char, i in tar_to_index.items())"
      ],
      "execution_count": 32,
      "outputs": []
    },
    {
      "cell_type": "markdown",
      "metadata": {
        "id": "iGGoJRO0L23S",
        "colab_type": "text"
      },
      "source": [
        "Decode_sequence 함수가 이해가 잘 안되네"
      ]
    },
    {
      "cell_type": "code",
      "metadata": {
        "id": "pgtQxSdUJAIy",
        "colab_type": "code",
        "colab": {}
      },
      "source": [
        "\n",
        "def decode_sequence(input_seq):\n",
        "    # 입력으로부터 인코더의 상태를 얻음\n",
        "    states_value = encoder_model.predict(input_seq)\n",
        "\n",
        "    # <SOS>에 해당하는 원-핫 벡터 생성\n",
        "    target_seq = np.zeros((1, 1, tar_vocab_size))\n",
        "    target_seq[0, 0, tar_to_index['\\t']] = 1.\n",
        "\n",
        "    stop_condition = False\n",
        "    decoded_sentence = \"\"\n",
        "\n",
        "    # stop_condition이 True가 될 때까지 루프 반복\n",
        "    while not stop_condition:\n",
        "        # 이점 시점의 상태 states_value를 현 시점의 초기 상태로 사용\n",
        "        output_tokens, h, c = decoder_model.predict([target_seq] + states_value)\n",
        "\n",
        "        # 예측 결과를 문자로 변환\n",
        "        sampled_token_index = np.argmax(output_tokens[0, -1, :])\n",
        "        sampled_char = index_to_tar[sampled_token_index]\n",
        "\n",
        "        # 현재 시점의 예측 문자를 예측 문장에 추가\n",
        "        decoded_sentence += sampled_char\n",
        "\n",
        "        # <eos>에 도달하거나 최대 길이를 넘으면 중단.\n",
        "        if (sampled_char == '\\n' or\n",
        "           len(decoded_sentence) > max_tar_len):\n",
        "            stop_condition = True\n",
        "\n",
        "        # 현재 시점의 예측 결과를 다음 시점의 입력으로 사용하기 위해 저장\n",
        "        target_seq = np.zeros((1, 1, tar_vocab_size))\n",
        "        target_seq[0, 0, sampled_token_index] = 1.\n",
        "\n",
        "        # 현재 시점의 상태를 다음 시점의 상태로 사용하기 위해 저장\n",
        "        states_value = [h, c]\n",
        "\n",
        "    return decoded_sentence"
      ],
      "execution_count": 33,
      "outputs": []
    },
    {
      "cell_type": "code",
      "metadata": {
        "id": "B2HmjJg8JpBA",
        "colab_type": "code",
        "colab": {
          "base_uri": "https://localhost:8080/",
          "height": 357
        },
        "outputId": "6eb31ee5-c905-4377-d5ba-078fafb72948"
      },
      "source": [
        "for seq_index in [3,50,100,300,1001]: # 입력 문장의 인덱스\n",
        "    input_seq = encoder_input[seq_index: seq_index + 1]\n",
        "    decoded_sentence = decode_sequence(input_seq)\n",
        "    print(35 * \"-\")\n",
        "    print('입력 문장:', lines.src[seq_index])\n",
        "    print('정답 문장:', lines.tar[seq_index][1:len(lines.tar[seq_index])-1]) # '\\t'와 '\\n'을 빼고 출력\n",
        "    print('번역기가 번역한 문장:', decoded_sentence[:len(decoded_sentence)-1]) # '\\n'을 빼고 출력"
      ],
      "execution_count": 35,
      "outputs": [
        {
          "output_type": "stream",
          "text": [
            "-----------------------------------\n",
            "입력 문장: hi, where is the tennis court\n",
            "정답 문장:  Cours ! \n",
            "번역기가 번역한 문장:  Cours ! \n",
            "-----------------------------------\n",
            "입력 문장: hi, where is the tennis court\n",
            "정답 문장:  Je suis partie. \n",
            "번역기가 번역한 문장:  Je suis parti. \n",
            "-----------------------------------\n",
            "입력 문장: hi, where is the tennis court\n",
            "정답 문장:  Appelez-nous ! \n",
            "번역기가 번역한 문장:  Appelle-nous ! \n",
            "-----------------------------------\n",
            "입력 문장: hi, where is the tennis court\n",
            "정답 문장:  Comme c'est gentil ! \n",
            "번역기가 번역한 문장:  Comme c'est chouette ! \n",
            "-----------------------------------\n",
            "입력 문장: hi, where is the tennis court\n",
            "정답 문장:  Tourne à gauche. \n",
            "번역기가 번역한 문장:  Éteins-le ! \n"
          ],
          "name": "stdout"
        }
      ]
    },
    {
      "cell_type": "code",
      "metadata": {
        "id": "dI0rorVuJrBf",
        "colab_type": "code",
        "colab": {}
      },
      "source": [
        ""
      ],
      "execution_count": null,
      "outputs": []
    }
  ]
}